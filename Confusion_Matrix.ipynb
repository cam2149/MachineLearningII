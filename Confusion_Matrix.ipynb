{
  "cells": [
    {
      "cell_type": "markdown",
      "metadata": {
        "id": "view-in-github",
        "colab_type": "text"
      },
      "source": [
        "<a href=\"https://colab.research.google.com/github/cam2149/MachineLearningII/blob/main/Confusion_Matrix.ipynb\" target=\"_parent\"><img src=\"https://colab.research.google.com/assets/colab-badge.svg\" alt=\"Open In Colab\"/></a>"
      ]
    },
    {
      "cell_type": "markdown",
      "metadata": {
        "id": "HHHR0d6ylfSB"
      },
      "source": [
        "\n",
        "# Matriz de confusión con scikitlearn"
      ]
    },
    {
      "cell_type": "markdown",
      "metadata": {
        "id": "3cCmzr_hlfSJ"
      },
      "source": [
        "Consideremos el siguiente ejemplo tomado del texto   [Introduction to Machine Learning with Python](https://www.oreilly.com/library/view/introduction-to-machine/9781449369880/) by Andreas C. Müller & Sarah Guido"
      ]
    },
    {
      "cell_type": "code",
      "execution_count": null,
      "metadata": {
        "colab": {
          "base_uri": "https://localhost:8080/",
          "height": 454
        },
        "id": "wlDnQzLHlfSK",
        "outputId": "40cabb60-4ec6-4b42-8338-1a900fedaa17"
      },
      "outputs": [
        {
          "output_type": "display_data",
          "data": {
            "text/plain": [
              "<Figure size 640x480 with 0 Axes>"
            ]
          },
          "metadata": {}
        },
        {
          "output_type": "display_data",
          "data": {
            "text/plain": [
              "<Figure size 480x480 with 1 Axes>"
            ],
            "image/png": "[encoded data removed]"
          },
          "metadata": {}
        }
      ],
      "source": [
        "from sklearn.linear_model import LogisticRegression\n",
        "from sklearn import neighbors, metrics\n",
        "from sklearn.model_selection import train_test_split\n",
        "from sklearn.datasets import load_digits\n",
        "from sklearn.dummy import DummyClassifier\n",
        "from sklearn.metrics import roc_auc_score, roc_curve\n",
        "\n",
        "\n",
        "import matplotlib.pyplot as plt\n",
        "import numpy as np\n",
        "\n",
        "digits = load_digits() #https://archive.ics.uci.edu/ml/datasets/Optical+Recognition+of+Handwritten+Digits\n",
        "\n",
        "\n",
        "plt.gray()\n",
        "plt.matshow(digits.images[0])\n",
        "plt.show()"
      ]
    },
    {
      "cell_type": "code",
      "execution_count": null,
      "metadata": {
        "id": "lWsVSCbgm40K"
      },
      "outputs": [],
      "source": [
        "y = (digits.target == 1).astype(int)  # Set target to 1 if the digit is 9, otherwise 0\n",
        "X_train, X_test, y_train, y_test = train_test_split(digits.data, y, random_state=0) #"
      ]
    },
    {
      "cell_type": "code",
      "execution_count": null,
      "metadata": {
        "colab": {
          "base_uri": "https://localhost:8080/"
        },
        "id": "R4XUzMAQkIS2",
        "outputId": "11ec5cb6-8388-4cf9-b22b-22deb2a1e401"
      },
      "outputs": [
        {
          "output_type": "stream",
          "name": "stdout",
          "text": [
            "predicted labels: [0]\n",
            "score: 0.904444\n",
            "dummy score: 0.904444\n",
            "logreg score: 0.986667\n",
            "KNN score: 0.997778\n"
          ]
        }
      ],
      "source": [
        "dummy_majority = DummyClassifier(strategy='most_frequent').fit(X_train, y_train) #\n",
        "pred_most_frequent = dummy_majority.predict(X_test)\n",
        "print(\"predicted labels: %s\" % np.unique(pred_most_frequent))\n",
        "print(\"score: %f\" % dummy_majority.score(X_test, y_test))\n",
        "\n",
        "dummy = DummyClassifier().fit(X_train, y_train) #\n",
        "pred_dummy = dummy.predict(X_test)\n",
        "print(\"dummy score: %f\" % dummy.score(X_test, y_test))\n",
        "\n",
        "logreg = LogisticRegression(C=0.001).fit(X_train, y_train)  #\n",
        "pred_logreg = logreg.predict(X_test)\n",
        "print(\"logreg score: %f\" % logreg.score(X_test, y_test))\n",
        "\n",
        "k = 3\n",
        "knn = neighbors.KNeighborsClassifier(n_neighbors=k)\n",
        "knn.fit(X_train,y_train)\n",
        "pred_knn = knn.predict(X_test)\n",
        "\n",
        "print(\"KNN score: %f\" % knn.score(X_test, y_test))"
      ]
    },
    {
      "cell_type": "code",
      "execution_count": null,
      "metadata": {
        "colab": {
          "base_uri": "https://localhost:8080/"
        },
        "id": "VPs5Oae-b2nA",
        "outputId": "e036e10c-de50-4768-a181-6bec3e5f6221"
      },
      "outputs": [
        {
          "output_type": "stream",
          "name": "stdout",
          "text": [
            "[[407   0]\n",
            " [  6  37]]\n"
          ]
        }
      ],
      "source": [
        "from sklearn.metrics import confusion_matrix\n",
        "confusion = confusion_matrix(y_test, pred_logreg)\n",
        "print(confusion)"
      ]
    },
    {
      "cell_type": "code",
      "execution_count": null,
      "metadata": {
        "colab": {
          "base_uri": "https://localhost:8080/"
        },
        "id": "omiZihN_kSKk",
        "outputId": "ed8c82db-3b56-410e-c49e-08be45631d2e"
      },
      "outputs": [
        {
          "output_type": "stream",
          "name": "stdout",
          "text": [
            "Most frequent class:\n",
            "[[407   0]\n",
            " [ 43   0]]\n",
            "\n",
            "Dummy model:\n",
            "[[407   0]\n",
            " [ 43   0]]\n",
            "\n",
            "Logistic Regression\n",
            "[[407   0]\n",
            " [  6  37]]\n",
            "\n",
            "KNN\n",
            "[[407   0]\n",
            " [  1  42]]\n"
          ]
        }
      ],
      "source": [
        "print(\"Most frequent class:\")\n",
        "print(confusion_matrix(y_test, pred_most_frequent))\n",
        "print(\"\\nDummy model:\")\n",
        "print(confusion_matrix(y_test, pred_dummy))\n",
        "print(\"\\nLogistic Regression\")\n",
        "print(confusion_matrix(y_test, pred_logreg))\n",
        "print(\"\\nKNN\")\n",
        "print(confusion_matrix(y_test, pred_knn))"
      ]
    },
    {
      "cell_type": "code",
      "execution_count": null,
      "metadata": {
        "colab": {
          "base_uri": "https://localhost:8080/"
        },
        "id": "v41SkNh6kwni",
        "outputId": "169d03d4-2a08-4175-ea12-cf9d5d496d30"
      },
      "outputs": [
        {
          "output_type": "stream",
          "name": "stdout",
          "text": [
            "f1 score most frequent: 0.00\n",
            "f1 score dummy: 0.00\n",
            "f1 score logreg: 0.93\n",
            "f1 score KNN: 0.99\n"
          ]
        }
      ],
      "source": [
        "from sklearn.metrics import f1_score\n",
        "print(\"f1 score most frequent: %.2f\" % f1_score(y_test, pred_most_frequent))\n",
        "print(\"f1 score dummy: %.2f\" % f1_score(y_test, pred_dummy))\n",
        "print(\"f1 score logreg: %.2f\" % f1_score(y_test, pred_logreg))\n",
        "print(\"f1 score KNN: %.2f\" % f1_score(y_test, pred_knn))"
      ]
    },
    {
      "cell_type": "code",
      "execution_count": null,
      "metadata": {
        "colab": {
          "base_uri": "https://localhost:8080/"
        },
        "id": "clB0OQ9GlLQ1",
        "outputId": "d894338e-bc6c-450d-a2fc-b26d1bc72f2e"
      },
      "outputs": [
        {
          "output_type": "stream",
          "name": "stdout",
          "text": [
            "              precision    recall  f1-score   support\n",
            "\n",
            "    not nine       0.90      1.00      0.95       407\n",
            "        nine       0.00      0.00      0.00        43\n",
            "\n",
            "    accuracy                           0.90       450\n",
            "   macro avg       0.45      0.50      0.47       450\n",
            "weighted avg       0.82      0.90      0.86       450\n",
            "\n"
          ]
        }
      ],
      "source": [
        "from sklearn.metrics import classification_report\n",
        "\n",
        "print(classification_report(y_test, pred_most_frequent,\n",
        " target_names=[\"not nine\", \"nine\"],zero_division=0))"
      ]
    },
    {
      "cell_type": "code",
      "execution_count": null,
      "metadata": {
        "id": "_R746xlulQJh",
        "colab": {
          "base_uri": "https://localhost:8080/"
        },
        "outputId": "0c9a0ff2-224e-43b8-a2eb-925f7d1537f6"
      },
      "outputs": [
        {
          "output_type": "stream",
          "name": "stdout",
          "text": [
            "              precision    recall  f1-score   support\n",
            "\n",
            "    not nine       0.90      1.00      0.95       407\n",
            "        nine       0.00      0.00      0.00        43\n",
            "\n",
            "    accuracy                           0.90       450\n",
            "   macro avg       0.45      0.50      0.47       450\n",
            "weighted avg       0.82      0.90      0.86       450\n",
            "\n"
          ]
        }
      ],
      "source": [
        "print(classification_report(y_test, pred_dummy,\n",
        " target_names=[\"not nine\", \"nine\"],zero_division=0))"
      ]
    },
    {
      "cell_type": "code",
      "execution_count": null,
      "metadata": {
        "id": "6iiN6mJflZiS",
        "colab": {
          "base_uri": "https://localhost:8080/"
        },
        "outputId": "d4d1edc4-41c8-4bd5-d677-6693b8b4e523"
      },
      "outputs": [
        {
          "output_type": "stream",
          "name": "stdout",
          "text": [
            "              precision    recall  f1-score   support\n",
            "\n",
            "    not nine       0.99      1.00      0.99       407\n",
            "        nine       1.00      0.86      0.93        43\n",
            "\n",
            "    accuracy                           0.99       450\n",
            "   macro avg       0.99      0.93      0.96       450\n",
            "weighted avg       0.99      0.99      0.99       450\n",
            "\n"
          ]
        }
      ],
      "source": [
        "print(classification_report(y_test, pred_logreg,\n",
        " target_names=[\"not nine\", \"nine\"],zero_division=0))"
      ]
    },
    {
      "cell_type": "code",
      "execution_count": null,
      "metadata": {
        "colab": {
          "base_uri": "https://localhost:8080/"
        },
        "id": "P_f28ncFB8OP",
        "outputId": "0fb19a71-03b8-4165-8eb1-c89156fa33c8"
      },
      "outputs": [
        {
          "output_type": "stream",
          "name": "stdout",
          "text": [
            "              precision    recall  f1-score   support\n",
            "\n",
            "    not nine       1.00      1.00      1.00       407\n",
            "        nine       1.00      0.98      0.99        43\n",
            "\n",
            "    accuracy                           1.00       450\n",
            "   macro avg       1.00      0.99      0.99       450\n",
            "weighted avg       1.00      1.00      1.00       450\n",
            "\n"
          ]
        }
      ],
      "source": [
        "print(classification_report(y_test, pred_knn,\n",
        " target_names=[\"not nine\", \"nine\"],zero_division=0))"
      ]
    },
    {
      "cell_type": "markdown",
      "metadata": {
        "id": "c2zg4dC2B8OP"
      },
      "source": [
        "# Metricas Probabilísticas"
      ]
    },
    {
      "cell_type": "code",
      "execution_count": null,
      "metadata": {
        "id": "Jij1ZiQMB8OP"
      },
      "outputs": [],
      "source": [
        "# Predict probabilities\n",
        "probs = logreg.predict_proba(X_test)"
      ]
    },
    {
      "cell_type": "code",
      "execution_count": null,
      "metadata": {
        "colab": {
          "base_uri": "https://localhost:8080/"
        },
        "id": "d1Mbj5evB8OQ",
        "outputId": "f7140515-86ff-4e6e-e2bd-7eb40e073e98"
      },
      "outputs": [
        {
          "output_type": "stream",
          "name": "stdout",
          "text": [
            "Log-Likelihood: -34.85994010514037\n"
          ]
        }
      ],
      "source": [
        "# Compute log-likelihood\n",
        "log_likelihood = np.sum(np.log(probs[np.arange(len(y_test)), y_test]))\n",
        "print(f'Log-Likelihood: {log_likelihood}')"
      ]
    },
    {
      "cell_type": "code",
      "execution_count": null,
      "metadata": {
        "colab": {
          "base_uri": "https://localhost:8080/"
        },
        "id": "G68IBIy6B8OQ",
        "outputId": "0aeab1a6-f4c9-4675-f3aa-ba8e7c0bb85e"
      },
      "outputs": [
        {
          "output_type": "stream",
          "name": "stdout",
          "text": [
            "AIC: 199.71988021028073\n"
          ]
        }
      ],
      "source": [
        "# Number of parameters (coefficients + intercept)\n",
        "k = X_test.shape[1] + 1  # 2 coefficients + 1 intercept\n",
        "\n",
        "# Compute AIC\n",
        "aic = 2 * k - 2 * log_likelihood\n",
        "print(f'AIC: {aic}')"
      ]
    },
    {
      "cell_type": "code",
      "execution_count": null,
      "metadata": {
        "colab": {
          "base_uri": "https://localhost:8080/"
        },
        "id": "84Mz2SGPB8OQ",
        "outputId": "a02a8394-69c3-4add-8725-d7b0ef20f2e8"
      },
      "outputs": [
        {
          "output_type": "stream",
          "name": "stdout",
          "text": [
            "BIC: 466.82097308996447\n"
          ]
        }
      ],
      "source": [
        "# Number of samples\n",
        "n = X_test.shape[0]\n",
        "\n",
        "# Compute BIC\n",
        "bic = k * np.log(n) - 2 * log_likelihood\n",
        "print(f'BIC: {bic}')"
      ]
    },
    {
      "cell_type": "code",
      "execution_count": null,
      "metadata": {
        "colab": {
          "base_uri": "https://localhost:8080/"
        },
        "id": "RzDgTEc7B8OR",
        "outputId": "31f72ddf-3e90-4a7a-f82f-437af9729856"
      },
      "outputs": [
        {
          "output_type": "stream",
          "name": "stdout",
          "text": [
            "ROC AUC: 0.9934860865093423\n"
          ]
        }
      ],
      "source": [
        "#  Predict probabilities for the positive class (y=1) on the test set\n",
        "probs = logreg.predict_proba(X_test)[:, 1]  # Get the probability of the positive class (digit 9)\n",
        "\n",
        "# Compute ROC AUC\n",
        "roc_auc = roc_auc_score(y_test, probs)\n",
        "\n",
        "# Output the ROC AUC score\n",
        "print(f'ROC AUC: {roc_auc}')"
      ]
    },
    {
      "cell_type": "code",
      "execution_count": null,
      "metadata": {
        "colab": {
          "base_uri": "https://localhost:8080/",
          "height": 472
        },
        "id": "M9fYWi3xB8OR",
        "outputId": "b5274f7b-47da-457b-a645-b5d3b47521e2"
      },
      "outputs": [
        {
          "output_type": "display_data",
          "data": {
            "text/plain": [
              "<Figure size 640x480 with 1 Axes>"
            ],
            "image/png": "[encoded data removed]"
          },
          "metadata": {}
        }
      ],
      "source": [
        "# Compute ROC curve values (fpr, tpr, thresholds)\n",
        "fpr, tpr, thresholds = roc_curve(y_test, probs)\n",
        "\n",
        "# Plot the ROC curve\n",
        "plt.figure()\n",
        "plt.plot(fpr, tpr, color='darkorange', lw=2, label=f'ROC curve (AUC = {roc_auc:.2f})')\n",
        "plt.plot([0, 1], [0, 1], color='navy', lw=2, linestyle='--')  # Diagonal line for random guess\n",
        "plt.xlim([0.0, 1.0])\n",
        "plt.ylim([0.0, 1.05])\n",
        "plt.xlabel('False Positive Rate')\n",
        "plt.ylabel('True Positive Rate')\n",
        "plt.title('Receiver Operating Characteristic (ROC) Curve')\n",
        "plt.legend(loc=\"lower right\")\n",
        "plt.show()"
      ]
    }
  ],
  "metadata": {
    "colab": {
      "name": "Confusion Matrix.ipynb",
      "provenance": [],
      "include_colab_link": true
    },
    "kernelspec": {
      "display_name": "Python 3 (ipykernel)",
      "language": "python",
      "name": "python3"
    },
    "language_info": {
      "codemirror_mode": {
        "name": "ipython",
        "version": 3
      },
      "file_extension": ".py",
      "mimetype": "text/x-python",
      "name": "python",
      "nbconvert_exporter": "python",
      "pygments_lexer": "ipython3",
      "version": "3.11.3"
    }
  },
  "nbformat": 4,
  "nbformat_minor": 0
}