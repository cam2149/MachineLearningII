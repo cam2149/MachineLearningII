{
  "nbformat": 4,
  "nbformat_minor": 0,
  "metadata": {
    "colab": {
      "provenance": [],
      "authorship_tag": "ABX9TyPbtqmxSUtfUS86ZKLeZJV5",
      "include_colab_link": true
    },
    "kernelspec": {
      "name": "python3",
      "display_name": "Python 3"
    },
    "language_info": {
      "name": "python"
    }
  },
  "cells": [
    {
      "cell_type": "markdown",
      "metadata": {
        "id": "view-in-github",
        "colab_type": "text"
      },
      "source": [
        "<a href=\"https://colab.research.google.com/github/cam2149/MachineLearningII/blob/main/Clustering-con-k-means.ipynb\" target=\"_parent\"><img src=\"https://colab.research.google.com/assets/colab-badge.svg\" alt=\"Open In Colab\"/></a>"
      ]
    },
    {
      "cell_type": "markdown",
      "source": [
        "<div class=\"markdown-google-sans\">\n",
        "  <h1>Ejemplo de clustering con k-means en Python</h1>\n",
        "  <p>\n",
        "  <h3><b>Fuente:</b> https://exponentis.es/ejemplo-de-clustering-con-k-means-en-python</h3>\n",
        "  </p>\n",
        "</div>\n",
        "\n",
        "<div class=\"markdown-google-sans\">\n",
        "  <p>Sin duda k-means es uno de los algoritmos de aprendizaje automático no supervisado más popular. El objetivo de k-means es simple: agrupa puntos de datos similares con el objetivo de descubrir patrones subyacentes. Para lograr este objetivo, k-means busca un número fijo (k) de agrupamientos (clústers) en el conjunto de datos .\n",
        "  <h2>1. Funcionamiento básico de k-means</h2>\n",
        "\n",
        "</p>\n",
        "\n",
        "<p>En k-means<strong> se define de inicio un número </strong><em><strong>k</strong></em>, que se refiere al número de centroides en los que se dividirá el conjunto de datos. Cada centroide sería la ubicación que marca el centro de cada agrupación.<br><strong>A cada punto se asigna uno de los grupos mediante la reducción de la suma de cuadrados en el grupo</strong>. Dicho de otra forma, el algoritmo k-means identifica <em>k</em> número de centroides, y luego asigna cada punto de los datos al grupo más cercano, mientras mantiene los centroides lo más pequeños posible.</p>\n",
        "<p>Una vez tenemos cada punto asociado a un clúster, <strong>podemos etiquetarlo en el <em>dataframe</em> original</strong> asociándolo a dicho grupo y “catalogando” por tanto nuestros datos.</p>\n",
        "</div>\n",
        "\n",
        "<h4 class=\"wp-block-heading\">2. Datos de inicio: valores de las acciones de Samsung.</h4>\n",
        "<p>Vamos a aplicar el algoritmo sobre <strong>un conjunto de datos de las acciones de </strong><a href=\"https://markets.businessinsider.com/stocks/samsung-stock\"><strong>Samsung</strong></a><strong> en bolsa</strong> para determinar cómo se agrupan usando k-means. Para ello nos descargamos de la web de <a rel=\"noreferrer noopener\" aria-label=\"Yahoo Finanzas (abre en una nueva pestaña)\" href=\"https://es.finance.yahoo.com/quote/005930.KS?p=005930.KS&amp;.tsrc=fin-srch\" target=\"_blank\">Yahoo Finanzas</a> el histórico con los valores desde el 1 de enero de 2008 de las acciones de <em>Samsung Electronics Co., Ltd</em>.</p>\n",
        "<p>De los datos descargados, buscaremos <strong>patrones de agrupamiento entre dos señales elegidas</strong>, en este caso seleccionamos la señal <strong>CLOSE</strong> (precio de cierre diario) y la señal <strong>VOLUME</strong> (volumen de contrataciones diario). Contaremos con una <em>dataframe</em> con los <strong>datos diarios desde el 1 de enero de 2008 hasta el 28 de junio de 2019</strong>, lo que nos da un total de 2849 registros (que serán algo menos cuando limpiemos los valores nulos).</p>\n",
        "<p>NOTA: podemos aplicar k-means sobre todas las señales/variables necesarias, pero para poder visualizar los agrupamientos k-means en una gráfica 2-D aplicaremos el algoritmo exclusivamente sobre la dos señales anteriormente detalladas.</p>\n",
        "\n"
      ],
      "metadata": {
        "id": "dCRHwMgr7-Y9"
      }
    },
    {
      "cell_type": "markdown",
      "source": [
        "<h4 class=\"wp-block-heading\">3. Carga de librerías y del <em>dataframe</em>.</h4>"
      ],
      "metadata": {
        "id": "VeVR87gT8Ess"
      }
    },
    {
      "cell_type": "markdown",
      "source": [
        "<p>Las librerías usadas serán <a rel=\"noreferrer noopener\" aria-label=\"Pandas (abre en una nueva pestaña)\" href=\"https://pandas.pydata.org/\" target=\"_blank\">Pandas</a> para almacenar y manipular el <em>dataframe</em>, <a rel=\"noreferrer noopener\" href=\"https://scikit-learn.org/stable/modules/preprocessing.html\" target=\"_blank\">Preprocessing</a> para normalizar los datos antes de aplicar al algoritmo, <a rel=\"noreferrer noopener\" aria-label=\"KMeans (abre en una nueva pestaña)\" href=\"https://scikit-learn.org/stable/modules/generated/sklearn.cluster.KMeans.html\" target=\"_blank\">KMeans</a> para realizar el clustering,  y <a href=\"https://matplotlib.org/3.1.1/tutorials/introductory/pyplot.html\">Pyplot</a> para hacer las representaciones gráficas.</p>\n",
        "\n",
        "<p>El <em>dataframe</em> cargado queda de la siguiente forma:</p>"
      ],
      "metadata": {
        "id": "-KE0LyotPRaT"
      }
    },
    {
      "cell_type": "code",
      "source": [
        "#%% Carga del dataframe.\n",
        "import pandas as pd\n",
        "from sklearn import preprocessing\n",
        "from sklearn.cluster import KMeans\n",
        "import matplotlib.pyplot as plt"
      ],
      "metadata": {
        "id": "OWmT0Rdt8AWa"
      },
      "execution_count": 196,
      "outputs": []
    },
    {
      "cell_type": "code",
      "source": [
        "#%% Carga del dataframe.\n",
        "url_data = 'https://github.com/cam2149/MachineLearningII/raw/08967e0c9145c90135fec839db6f24ca41ab7937/Samsung_11_14_24-01_02_08.csv'\n",
        "new_headers = ['Open', 'Close', 'DailyHigh', 'DaiLow', 'High', 'Low','Volume','Date']\n",
        "dfSamsung = pd.read_csv(url_data, header=0, names=new_headers)\n",
        "\n",
        "dfSamsung['High'] = dfSamsung['High'].astype(str)\n",
        "dfSamsung['Low'] = dfSamsung['Low'].astype(str)\n",
        "dfSamsung['Volume'] = dfSamsung['Volume'].astype(str)\n",
        "dfSamsung['Volume'] = dfSamsung['Volume'].str.replace('.0', '')\n",
        "dfSamsung['Volume'] = dfSamsung['High'] + dfSamsung['Low'] + dfSamsung['Volume']\n",
        "dfSamsung = dfSamsung.drop(['High', 'Low'], axis=1)\n",
        "dfSamsung['Volume'] = dfSamsung['Volume'].astype(int)\n",
        "dfSamsung[0:5]\n"
      ],
      "metadata": {
        "colab": {
          "base_uri": "https://localhost:8080/",
          "height": 206
        },
        "id": "sgREhMa88KG1",
        "outputId": "f150bc49-f9de-4674-ffda-4deb4d504d5c"
      },
      "execution_count": 197,
      "outputs": [
        {
          "output_type": "execute_result",
          "data": {
            "text/plain": [
              "    Open  Close  DailyHigh  DaiLow    Volume      Date\n",
              "0  50200  49900      51800   49900  45107400  11/14/24\n",
              "1  52000  50600      53000   50500  50647543  11/13/24\n",
              "2  54600  53000      54600   53000  32714953  11/12/24\n",
              "3  56700  55000      56800   55000  29468632  11/11/24\n",
              "4  58000  57000      58300   57000  13432473  11/08/24"
            ],
            "text/html": [
              "\n",
              "  <div id=\"df-4cffd952-cf43-4d24-90d6-6787d4af4b29\" class=\"colab-df-container\">\n",
              "    <div>\n",
              "<style scoped>\n",
              "    .dataframe tbody tr th:only-of-type {\n",
              "        vertical-align: middle;\n",
              "    }\n",
              "\n",
              "    .dataframe tbody tr th {\n",
              "        vertical-align: top;\n",
              "    }\n",
              "\n",
              "    .dataframe thead th {\n",
              "        text-align: right;\n",
              "    }\n",
              "</style>\n",
              "<table border=\"1\" class=\"dataframe\">\n",
              "  <thead>\n",
              "    <tr style=\"text-align: right;\">\n",
              "      <th></th>\n",
              "      <th>Open</th>\n",
              "      <th>Close</th>\n",
              "      <th>DailyHigh</th>\n",
              "      <th>DaiLow</th>\n",
              "      <th>Volume</th>\n",
              "      <th>Date</th>\n",
              "    </tr>\n",
              "  </thead>\n",
              "  <tbody>\n",
              "    <tr>\n",
              "      <th>0</th>\n",
              "      <td>50200</td>\n",
              "      <td>49900</td>\n",
              "      <td>51800</td>\n",
              "      <td>49900</td>\n",
              "      <td>45107400</td>\n",
              "      <td>11/14/24</td>\n",
              "    </tr>\n",
              "    <tr>\n",
              "      <th>1</th>\n",
              "      <td>52000</td>\n",
              "      <td>50600</td>\n",
              "      <td>53000</td>\n",
              "      <td>50500</td>\n",
              "      <td>50647543</td>\n",
              "      <td>11/13/24</td>\n",
              "    </tr>\n",
              "    <tr>\n",
              "      <th>2</th>\n",
              "      <td>54600</td>\n",
              "      <td>53000</td>\n",
              "      <td>54600</td>\n",
              "      <td>53000</td>\n",
              "      <td>32714953</td>\n",
              "      <td>11/12/24</td>\n",
              "    </tr>\n",
              "    <tr>\n",
              "      <th>3</th>\n",
              "      <td>56700</td>\n",
              "      <td>55000</td>\n",
              "      <td>56800</td>\n",
              "      <td>55000</td>\n",
              "      <td>29468632</td>\n",
              "      <td>11/11/24</td>\n",
              "    </tr>\n",
              "    <tr>\n",
              "      <th>4</th>\n",
              "      <td>58000</td>\n",
              "      <td>57000</td>\n",
              "      <td>58300</td>\n",
              "      <td>57000</td>\n",
              "      <td>13432473</td>\n",
              "      <td>11/08/24</td>\n",
              "    </tr>\n",
              "  </tbody>\n",
              "</table>\n",
              "</div>\n",
              "    <div class=\"colab-df-buttons\">\n",
              "\n",
              "  <div class=\"colab-df-container\">\n",
              "    <button class=\"colab-df-convert\" onclick=\"convertToInteractive('df-4cffd952-cf43-4d24-90d6-6787d4af4b29')\"\n",
              "            title=\"Convert this dataframe to an interactive table.\"\n",
              "            style=\"display:none;\">\n",
              "\n",
              "  <svg xmlns=\"http://www.w3.org/2000/svg\" height=\"24px\" viewBox=\"0 -960 960 960\">\n",
              "    <path d=\"M120-120v-720h720v720H120Zm60-500h600v-160H180v160Zm220 220h160v-160H400v160Zm0 220h160v-160H400v160ZM180-400h160v-160H180v160Zm440 0h160v-160H620v160ZM180-180h160v-160H180v160Zm440 0h160v-160H620v160Z\"/>\n",
              "  </svg>\n",
              "    </button>\n",
              "\n",
              "  <style>\n",
              "    .colab-df-container {\n",
              "      display:flex;\n",
              "      gap: 12px;\n",
              "    }\n",
              "\n",
              "    .colab-df-convert {\n",
              "      background-color: #E8F0FE;\n",
              "      border: none;\n",
              "      border-radius: 50%;\n",
              "      cursor: pointer;\n",
              "      display: none;\n",
              "      fill: #1967D2;\n",
              "      height: 32px;\n",
              "      padding: 0 0 0 0;\n",
              "      width: 32px;\n",
              "    }\n",
              "\n",
              "    .colab-df-convert:hover {\n",
              "      background-color: #E2EBFA;\n",
              "      box-shadow: 0px 1px 2px rgba(60, 64, 67, 0.3), 0px 1px 3px 1px rgba(60, 64, 67, 0.15);\n",
              "      fill: #174EA6;\n",
              "    }\n",
              "\n",
              "    .colab-df-buttons div {\n",
              "      margin-bottom: 4px;\n",
              "    }\n",
              "\n",
              "    [theme=dark] .colab-df-convert {\n",
              "      background-color: #3B4455;\n",
              "      fill: #D2E3FC;\n",
              "    }\n",
              "\n",
              "    [theme=dark] .colab-df-convert:hover {\n",
              "      background-color: #434B5C;\n",
              "      box-shadow: 0px 1px 3px 1px rgba(0, 0, 0, 0.15);\n",
              "      filter: drop-shadow(0px 1px 2px rgba(0, 0, 0, 0.3));\n",
              "      fill: #FFFFFF;\n",
              "    }\n",
              "  </style>\n",
              "\n",
              "    <script>\n",
              "      const buttonEl =\n",
              "        document.querySelector('#df-4cffd952-cf43-4d24-90d6-6787d4af4b29 button.colab-df-convert');\n",
              "      buttonEl.style.display =\n",
              "        google.colab.kernel.accessAllowed ? 'block' : 'none';\n",
              "\n",
              "      async function convertToInteractive(key) {\n",
              "        const element = document.querySelector('#df-4cffd952-cf43-4d24-90d6-6787d4af4b29');\n",
              "        const dataTable =\n",
              "          await google.colab.kernel.invokeFunction('convertToInteractive',\n",
              "                                                    [key], {});\n",
              "        if (!dataTable) return;\n",
              "\n",
              "        const docLinkHtml = 'Like what you see? Visit the ' +\n",
              "          '<a target=\"_blank\" href=https://colab.research.google.com/notebooks/data_table.ipynb>data table notebook</a>'\n",
              "          + ' to learn more about interactive tables.';\n",
              "        element.innerHTML = '';\n",
              "        dataTable['output_type'] = 'display_data';\n",
              "        await google.colab.output.renderOutput(dataTable, element);\n",
              "        const docLink = document.createElement('div');\n",
              "        docLink.innerHTML = docLinkHtml;\n",
              "        element.appendChild(docLink);\n",
              "      }\n",
              "    </script>\n",
              "  </div>\n",
              "\n",
              "\n",
              "<div id=\"df-b71327f5-57a7-47d8-9948-0f9bf0b6cb7a\">\n",
              "  <button class=\"colab-df-quickchart\" onclick=\"quickchart('df-b71327f5-57a7-47d8-9948-0f9bf0b6cb7a')\"\n",
              "            title=\"Suggest charts\"\n",
              "            style=\"display:none;\">\n",
              "\n",
              "<svg xmlns=\"http://www.w3.org/2000/svg\" height=\"24px\"viewBox=\"0 0 24 24\"\n",
              "     width=\"24px\">\n",
              "    <g>\n",
              "        <path d=\"M19 3H5c-1.1 0-2 .9-2 2v14c0 1.1.9 2 2 2h14c1.1 0 2-.9 2-2V5c0-1.1-.9-2-2-2zM9 17H7v-7h2v7zm4 0h-2V7h2v10zm4 0h-2v-4h2v4z\"/>\n",
              "    </g>\n",
              "</svg>\n",
              "  </button>\n",
              "\n",
              "<style>\n",
              "  .colab-df-quickchart {\n",
              "      --bg-color: #E8F0FE;\n",
              "      --fill-color: #1967D2;\n",
              "      --hover-bg-color: #E2EBFA;\n",
              "      --hover-fill-color: #174EA6;\n",
              "      --disabled-fill-color: #AAA;\n",
              "      --disabled-bg-color: #DDD;\n",
              "  }\n",
              "\n",
              "  [theme=dark] .colab-df-quickchart {\n",
              "      --bg-color: #3B4455;\n",
              "      --fill-color: #D2E3FC;\n",
              "      --hover-bg-color: #434B5C;\n",
              "      --hover-fill-color: #FFFFFF;\n",
              "      --disabled-bg-color: #3B4455;\n",
              "      --disabled-fill-color: #666;\n",
              "  }\n",
              "\n",
              "  .colab-df-quickchart {\n",
              "    background-color: var(--bg-color);\n",
              "    border: none;\n",
              "    border-radius: 50%;\n",
              "    cursor: pointer;\n",
              "    display: none;\n",
              "    fill: var(--fill-color);\n",
              "    height: 32px;\n",
              "    padding: 0;\n",
              "    width: 32px;\n",
              "  }\n",
              "\n",
              "  .colab-df-quickchart:hover {\n",
              "    background-color: var(--hover-bg-color);\n",
              "    box-shadow: 0 1px 2px rgba(60, 64, 67, 0.3), 0 1px 3px 1px rgba(60, 64, 67, 0.15);\n",
              "    fill: var(--button-hover-fill-color);\n",
              "  }\n",
              "\n",
              "  .colab-df-quickchart-complete:disabled,\n",
              "  .colab-df-quickchart-complete:disabled:hover {\n",
              "    background-color: var(--disabled-bg-color);\n",
              "    fill: var(--disabled-fill-color);\n",
              "    box-shadow: none;\n",
              "  }\n",
              "\n",
              "  .colab-df-spinner {\n",
              "    border: 2px solid var(--fill-color);\n",
              "    border-color: transparent;\n",
              "    border-bottom-color: var(--fill-color);\n",
              "    animation:\n",
              "      spin 1s steps(1) infinite;\n",
              "  }\n",
              "\n",
              "  @keyframes spin {\n",
              "    0% {\n",
              "      border-color: transparent;\n",
              "      border-bottom-color: var(--fill-color);\n",
              "      border-left-color: var(--fill-color);\n",
              "    }\n",
              "    20% {\n",
              "      border-color: transparent;\n",
              "      border-left-color: var(--fill-color);\n",
              "      border-top-color: var(--fill-color);\n",
              "    }\n",
              "    30% {\n",
              "      border-color: transparent;\n",
              "      border-left-color: var(--fill-color);\n",
              "      border-top-color: var(--fill-color);\n",
              "      border-right-color: var(--fill-color);\n",
              "    }\n",
              "    40% {\n",
              "      border-color: transparent;\n",
              "      border-right-color: var(--fill-color);\n",
              "      border-top-color: var(--fill-color);\n",
              "    }\n",
              "    60% {\n",
              "      border-color: transparent;\n",
              "      border-right-color: var(--fill-color);\n",
              "    }\n",
              "    80% {\n",
              "      border-color: transparent;\n",
              "      border-right-color: var(--fill-color);\n",
              "      border-bottom-color: var(--fill-color);\n",
              "    }\n",
              "    90% {\n",
              "      border-color: transparent;\n",
              "      border-bottom-color: var(--fill-color);\n",
              "    }\n",
              "  }\n",
              "</style>\n",
              "\n",
              "  <script>\n",
              "    async function quickchart(key) {\n",
              "      const quickchartButtonEl =\n",
              "        document.querySelector('#' + key + ' button');\n",
              "      quickchartButtonEl.disabled = true;  // To prevent multiple clicks.\n",
              "      quickchartButtonEl.classList.add('colab-df-spinner');\n",
              "      try {\n",
              "        const charts = await google.colab.kernel.invokeFunction(\n",
              "            'suggestCharts', [key], {});\n",
              "      } catch (error) {\n",
              "        console.error('Error during call to suggestCharts:', error);\n",
              "      }\n",
              "      quickchartButtonEl.classList.remove('colab-df-spinner');\n",
              "      quickchartButtonEl.classList.add('colab-df-quickchart-complete');\n",
              "    }\n",
              "    (() => {\n",
              "      let quickchartButtonEl =\n",
              "        document.querySelector('#df-b71327f5-57a7-47d8-9948-0f9bf0b6cb7a button');\n",
              "      quickchartButtonEl.style.display =\n",
              "        google.colab.kernel.accessAllowed ? 'block' : 'none';\n",
              "    })();\n",
              "  </script>\n",
              "</div>\n",
              "\n",
              "    </div>\n",
              "  </div>\n"
            ],
            "application/vnd.google.colaboratory.intrinsic+json": {
              "type": "dataframe",
              "summary": "{\n  \"name\": \"dfSamsung[0:5]\",\n  \"rows\": 5,\n  \"fields\": [\n    {\n      \"column\": \"Open\",\n      \"properties\": {\n        \"dtype\": \"number\",\n        \"std\": 3226,\n        \"min\": 50200,\n        \"max\": 58000,\n        \"num_unique_values\": 5,\n        \"samples\": [\n          52000,\n          58000,\n          54600\n        ],\n        \"semantic_type\": \"\",\n        \"description\": \"\"\n      }\n    },\n    {\n      \"column\": \"Close\",\n      \"properties\": {\n        \"dtype\": \"number\",\n        \"std\": 2971,\n        \"min\": 49900,\n        \"max\": 57000,\n        \"num_unique_values\": 5,\n        \"samples\": [\n          50600,\n          57000,\n          53000\n        ],\n        \"semantic_type\": \"\",\n        \"description\": \"\"\n      }\n    },\n    {\n      \"column\": \"DailyHigh\",\n      \"properties\": {\n        \"dtype\": \"number\",\n        \"std\": 2668,\n        \"min\": 51800,\n        \"max\": 58300,\n        \"num_unique_values\": 5,\n        \"samples\": [\n          53000,\n          58300,\n          54600\n        ],\n        \"semantic_type\": \"\",\n        \"description\": \"\"\n      }\n    },\n    {\n      \"column\": \"DaiLow\",\n      \"properties\": {\n        \"dtype\": \"number\",\n        \"std\": 2992,\n        \"min\": 49900,\n        \"max\": 57000,\n        \"num_unique_values\": 5,\n        \"samples\": [\n          50500,\n          57000,\n          53000\n        ],\n        \"semantic_type\": \"\",\n        \"description\": \"\"\n      }\n    },\n    {\n      \"column\": \"Volume\",\n      \"properties\": {\n        \"dtype\": \"number\",\n        \"std\": 14537425,\n        \"min\": 13432473,\n        \"max\": 50647543,\n        \"num_unique_values\": 5,\n        \"samples\": [\n          50647543,\n          13432473,\n          32714953\n        ],\n        \"semantic_type\": \"\",\n        \"description\": \"\"\n      }\n    },\n    {\n      \"column\": \"Date\",\n      \"properties\": {\n        \"dtype\": \"object\",\n        \"num_unique_values\": 5,\n        \"samples\": [\n          \"11/13/24\",\n          \"11/08/24\",\n          \"11/12/24\"\n        ],\n        \"semantic_type\": \"\",\n        \"description\": \"\"\n      }\n    }\n  ]\n}"
            }
          },
          "metadata": {},
          "execution_count": 197
        }
      ]
    },
    {
      "cell_type": "code",
      "source": [
        "dfSamsung.info()"
      ],
      "metadata": {
        "colab": {
          "base_uri": "https://localhost:8080/"
        },
        "id": "LqyT97NddXon",
        "outputId": "762b0d83-ae59-4e22-bd45-e1b15d947211"
      },
      "execution_count": 198,
      "outputs": [
        {
          "output_type": "stream",
          "name": "stdout",
          "text": [
            "<class 'pandas.core.frame.DataFrame'>\n",
            "RangeIndex: 4164 entries, 0 to 4163\n",
            "Data columns (total 6 columns):\n",
            " #   Column     Non-Null Count  Dtype \n",
            "---  ------     --------------  ----- \n",
            " 0   Open       4164 non-null   int64 \n",
            " 1   Close      4164 non-null   int64 \n",
            " 2   DailyHigh  4164 non-null   int64 \n",
            " 3   DaiLow     4164 non-null   int64 \n",
            " 4   Volume     4164 non-null   int64 \n",
            " 5   Date       4164 non-null   object\n",
            "dtypes: int64(5), object(1)\n",
            "memory usage: 195.3+ KB\n"
          ]
        }
      ]
    },
    {
      "cell_type": "markdown",
      "source": [
        "<h4 class=\"wp-block-heading\">4. Preprocesado de los datos.</h4>\n",
        "<p>En primer lugar, eliminamos los <a rel=\"noreferrer noopener\" aria-label=\"datos vacíos (NA)  (abre en una nueva pestaña)\" href=\"https://es.wikipedia.org/wiki/N/a\" target=\"_blank\">datos vacíos (NA) </a>y resetamos el índice. El objetivo de dicho reseteo es que el índice que numera las filas no se reajusta cuando eliminamos filas vacías, y pueden presentarse problemas de dimensionalidad al extraer columnas para posteriormente agregarlas:</p>"
      ],
      "metadata": {
        "id": "GXdUHFUjjgM2"
      }
    },
    {
      "cell_type": "code",
      "source": [
        "#%% Se eliminan filas que tengan valor NaN.\n",
        "countCollumns = len(dfSamsung)\n",
        "dfSamsung.dropna(how='all', inplace=True)\n",
        "dfSamsung.reset_index(drop=True)\n",
        "\n",
        " # Describir el efecto de la eliminación\n",
        "print(\"Número de filas antes de eliminar datos nulos:\", countCollumns)\n",
        "print(\"Número de filas después de eliminar datos nulos:\", len(dfSamsung))\n",
        "print(\"Número de filas eliminadas:\", len(dfSamsung) - countCollumns)"
      ],
      "metadata": {
        "id": "LY9m-24Zjfww",
        "colab": {
          "base_uri": "https://localhost:8080/"
        },
        "outputId": "84076815-c9e9-4022-8f11-f12761a4bc2f"
      },
      "execution_count": 199,
      "outputs": [
        {
          "output_type": "stream",
          "name": "stdout",
          "text": [
            "Número de filas antes de eliminar datos nulos: 4164\n",
            "Número de filas después de eliminar datos nulos: 4164\n",
            "Número de filas eliminadas: 0\n"
          ]
        }
      ]
    },
    {
      "cell_type": "markdown",
      "source": [
        "<p>En nuestro ejemplo el <em>dataset</em> “limpio” es de 4164 registros</p>\n",
        "<p>El siguiente paso es extraer la columna DATE (fecha) que no usaremos en el algoritmo k-means. Antes de extraerla la guardaremos en la variable <em>dates</em>, ya que volveremos a insertarla en nuestro <em>dataframe</em> tras aplicar el algoritmo:</p>\n",
        "\n",
        ""
      ],
      "metadata": {
        "id": "IvhB3F8Tr_8v"
      }
    },
    {
      "cell_type": "code",
      "source": [
        "dfSamsung"
      ],
      "metadata": {
        "colab": {
          "base_uri": "https://localhost:8080/",
          "height": 423
        },
        "id": "Sztlwrj0tBQf",
        "outputId": "61e455de-2c26-4e02-d46d-57c87cf27fdb"
      },
      "execution_count": 200,
      "outputs": [
        {
          "output_type": "execute_result",
          "data": {
            "text/plain": [
              "       Open  Close  DailyHigh  DaiLow    Volume      Date\n",
              "0     50200  49900      51800   49900  45107400  11/14/24\n",
              "1     52000  50600      53000   50500  50647543  11/13/24\n",
              "2     54600  53000      54600   53000  32714953  11/12/24\n",
              "3     56700  55000      56800   55000  29468632  11/11/24\n",
              "4     58000  57000      58300   57000  13432473  11/08/24\n",
              "...     ...    ...        ...     ...       ...       ...\n",
              "4159  10380  10320      10480   10320  24566250  01/08/08\n",
              "4160  10360  10380      10480   10340    394100  01/07/08\n",
              "4161  10920  10780      10960   10760  17287800  01/04/08\n",
              "4162  10760  10920      11060   10640  19314150  01/03/08\n",
              "4163  11180  10880      11200   10840  16952800  01/02/08\n",
              "\n",
              "[4164 rows x 6 columns]"
            ],
            "text/html": [
              "\n",
              "  <div id=\"df-1cf6c85e-ef25-47c0-95c2-8a2ae053c79e\" class=\"colab-df-container\">\n",
              "    <div>\n",
              "<style scoped>\n",
              "    .dataframe tbody tr th:only-of-type {\n",
              "        vertical-align: middle;\n",
              "    }\n",
              "\n",
              "    .dataframe tbody tr th {\n",
              "        vertical-align: top;\n",
              "    }\n",
              "\n",
              "    .dataframe thead th {\n",
              "        text-align: right;\n",
              "    }\n",
              "</style>\n",
              "<table border=\"1\" class=\"dataframe\">\n",
              "  <thead>\n",
              "    <tr style=\"text-align: right;\">\n",
              "      <th></th>\n",
              "      <th>Open</th>\n",
              "      <th>Close</th>\n",
              "      <th>DailyHigh</th>\n",
              "      <th>DaiLow</th>\n",
              "      <th>Volume</th>\n",
              "      <th>Date</th>\n",
              "    </tr>\n",
              "  </thead>\n",
              "  <tbody>\n",
              "    <tr>\n",
              "      <th>0</th>\n",
              "      <td>50200</td>\n",
              "      <td>49900</td>\n",
              "      <td>51800</td>\n",
              "      <td>49900</td>\n",
              "      <td>45107400</td>\n",
              "      <td>11/14/24</td>\n",
              "    </tr>\n",
              "    <tr>\n",
              "      <th>1</th>\n",
              "      <td>52000</td>\n",
              "      <td>50600</td>\n",
              "      <td>53000</td>\n",
              "      <td>50500</td>\n",
              "      <td>50647543</td>\n",
              "      <td>11/13/24</td>\n",
              "    </tr>\n",
              "    <tr>\n",
              "      <th>2</th>\n",
              "      <td>54600</td>\n",
              "      <td>53000</td>\n",
              "      <td>54600</td>\n",
              "      <td>53000</td>\n",
              "      <td>32714953</td>\n",
              "      <td>11/12/24</td>\n",
              "    </tr>\n",
              "    <tr>\n",
              "      <th>3</th>\n",
              "      <td>56700</td>\n",
              "      <td>55000</td>\n",
              "      <td>56800</td>\n",
              "      <td>55000</td>\n",
              "      <td>29468632</td>\n",
              "      <td>11/11/24</td>\n",
              "    </tr>\n",
              "    <tr>\n",
              "      <th>4</th>\n",
              "      <td>58000</td>\n",
              "      <td>57000</td>\n",
              "      <td>58300</td>\n",
              "      <td>57000</td>\n",
              "      <td>13432473</td>\n",
              "      <td>11/08/24</td>\n",
              "    </tr>\n",
              "    <tr>\n",
              "      <th>...</th>\n",
              "      <td>...</td>\n",
              "      <td>...</td>\n",
              "      <td>...</td>\n",
              "      <td>...</td>\n",
              "      <td>...</td>\n",
              "      <td>...</td>\n",
              "    </tr>\n",
              "    <tr>\n",
              "      <th>4159</th>\n",
              "      <td>10380</td>\n",
              "      <td>10320</td>\n",
              "      <td>10480</td>\n",
              "      <td>10320</td>\n",
              "      <td>24566250</td>\n",
              "      <td>01/08/08</td>\n",
              "    </tr>\n",
              "    <tr>\n",
              "      <th>4160</th>\n",
              "      <td>10360</td>\n",
              "      <td>10380</td>\n",
              "      <td>10480</td>\n",
              "      <td>10340</td>\n",
              "      <td>394100</td>\n",
              "      <td>01/07/08</td>\n",
              "    </tr>\n",
              "    <tr>\n",
              "      <th>4161</th>\n",
              "      <td>10920</td>\n",
              "      <td>10780</td>\n",
              "      <td>10960</td>\n",
              "      <td>10760</td>\n",
              "      <td>17287800</td>\n",
              "      <td>01/04/08</td>\n",
              "    </tr>\n",
              "    <tr>\n",
              "      <th>4162</th>\n",
              "      <td>10760</td>\n",
              "      <td>10920</td>\n",
              "      <td>11060</td>\n",
              "      <td>10640</td>\n",
              "      <td>19314150</td>\n",
              "      <td>01/03/08</td>\n",
              "    </tr>\n",
              "    <tr>\n",
              "      <th>4163</th>\n",
              "      <td>11180</td>\n",
              "      <td>10880</td>\n",
              "      <td>11200</td>\n",
              "      <td>10840</td>\n",
              "      <td>16952800</td>\n",
              "      <td>01/02/08</td>\n",
              "    </tr>\n",
              "  </tbody>\n",
              "</table>\n",
              "<p>4164 rows × 6 columns</p>\n",
              "</div>\n",
              "    <div class=\"colab-df-buttons\">\n",
              "\n",
              "  <div class=\"colab-df-container\">\n",
              "    <button class=\"colab-df-convert\" onclick=\"convertToInteractive('df-1cf6c85e-ef25-47c0-95c2-8a2ae053c79e')\"\n",
              "            title=\"Convert this dataframe to an interactive table.\"\n",
              "            style=\"display:none;\">\n",
              "\n",
              "  <svg xmlns=\"http://www.w3.org/2000/svg\" height=\"24px\" viewBox=\"0 -960 960 960\">\n",
              "    <path d=\"M120-120v-720h720v720H120Zm60-500h600v-160H180v160Zm220 220h160v-160H400v160Zm0 220h160v-160H400v160ZM180-400h160v-160H180v160Zm440 0h160v-160H620v160ZM180-180h160v-160H180v160Zm440 0h160v-160H620v160Z\"/>\n",
              "  </svg>\n",
              "    </button>\n",
              "\n",
              "  <style>\n",
              "    .colab-df-container {\n",
              "      display:flex;\n",
              "      gap: 12px;\n",
              "    }\n",
              "\n",
              "    .colab-df-convert {\n",
              "      background-color: #E8F0FE;\n",
              "      border: none;\n",
              "      border-radius: 50%;\n",
              "      cursor: pointer;\n",
              "      display: none;\n",
              "      fill: #1967D2;\n",
              "      height: 32px;\n",
              "      padding: 0 0 0 0;\n",
              "      width: 32px;\n",
              "    }\n",
              "\n",
              "    .colab-df-convert:hover {\n",
              "      background-color: #E2EBFA;\n",
              "      box-shadow: 0px 1px 2px rgba(60, 64, 67, 0.3), 0px 1px 3px 1px rgba(60, 64, 67, 0.15);\n",
              "      fill: #174EA6;\n",
              "    }\n",
              "\n",
              "    .colab-df-buttons div {\n",
              "      margin-bottom: 4px;\n",
              "    }\n",
              "\n",
              "    [theme=dark] .colab-df-convert {\n",
              "      background-color: #3B4455;\n",
              "      fill: #D2E3FC;\n",
              "    }\n",
              "\n",
              "    [theme=dark] .colab-df-convert:hover {\n",
              "      background-color: #434B5C;\n",
              "      box-shadow: 0px 1px 3px 1px rgba(0, 0, 0, 0.15);\n",
              "      filter: drop-shadow(0px 1px 2px rgba(0, 0, 0, 0.3));\n",
              "      fill: #FFFFFF;\n",
              "    }\n",
              "  </style>\n",
              "\n",
              "    <script>\n",
              "      const buttonEl =\n",
              "        document.querySelector('#df-1cf6c85e-ef25-47c0-95c2-8a2ae053c79e button.colab-df-convert');\n",
              "      buttonEl.style.display =\n",
              "        google.colab.kernel.accessAllowed ? 'block' : 'none';\n",
              "\n",
              "      async function convertToInteractive(key) {\n",
              "        const element = document.querySelector('#df-1cf6c85e-ef25-47c0-95c2-8a2ae053c79e');\n",
              "        const dataTable =\n",
              "          await google.colab.kernel.invokeFunction('convertToInteractive',\n",
              "                                                    [key], {});\n",
              "        if (!dataTable) return;\n",
              "\n",
              "        const docLinkHtml = 'Like what you see? Visit the ' +\n",
              "          '<a target=\"_blank\" href=https://colab.research.google.com/notebooks/data_table.ipynb>data table notebook</a>'\n",
              "          + ' to learn more about interactive tables.';\n",
              "        element.innerHTML = '';\n",
              "        dataTable['output_type'] = 'display_data';\n",
              "        await google.colab.output.renderOutput(dataTable, element);\n",
              "        const docLink = document.createElement('div');\n",
              "        docLink.innerHTML = docLinkHtml;\n",
              "        element.appendChild(docLink);\n",
              "      }\n",
              "    </script>\n",
              "  </div>\n",
              "\n",
              "\n",
              "<div id=\"df-57da91c9-5271-4e6a-ac6a-c9a22a5a27b0\">\n",
              "  <button class=\"colab-df-quickchart\" onclick=\"quickchart('df-57da91c9-5271-4e6a-ac6a-c9a22a5a27b0')\"\n",
              "            title=\"Suggest charts\"\n",
              "            style=\"display:none;\">\n",
              "\n",
              "<svg xmlns=\"http://www.w3.org/2000/svg\" height=\"24px\"viewBox=\"0 0 24 24\"\n",
              "     width=\"24px\">\n",
              "    <g>\n",
              "        <path d=\"M19 3H5c-1.1 0-2 .9-2 2v14c0 1.1.9 2 2 2h14c1.1 0 2-.9 2-2V5c0-1.1-.9-2-2-2zM9 17H7v-7h2v7zm4 0h-2V7h2v10zm4 0h-2v-4h2v4z\"/>\n",
              "    </g>\n",
              "</svg>\n",
              "  </button>\n",
              "\n",
              "<style>\n",
              "  .colab-df-quickchart {\n",
              "      --bg-color: #E8F0FE;\n",
              "      --fill-color: #1967D2;\n",
              "      --hover-bg-color: #E2EBFA;\n",
              "      --hover-fill-color: #174EA6;\n",
              "      --disabled-fill-color: #AAA;\n",
              "      --disabled-bg-color: #DDD;\n",
              "  }\n",
              "\n",
              "  [theme=dark] .colab-df-quickchart {\n",
              "      --bg-color: #3B4455;\n",
              "      --fill-color: #D2E3FC;\n",
              "      --hover-bg-color: #434B5C;\n",
              "      --hover-fill-color: #FFFFFF;\n",
              "      --disabled-bg-color: #3B4455;\n",
              "      --disabled-fill-color: #666;\n",
              "  }\n",
              "\n",
              "  .colab-df-quickchart {\n",
              "    background-color: var(--bg-color);\n",
              "    border: none;\n",
              "    border-radius: 50%;\n",
              "    cursor: pointer;\n",
              "    display: none;\n",
              "    fill: var(--fill-color);\n",
              "    height: 32px;\n",
              "    padding: 0;\n",
              "    width: 32px;\n",
              "  }\n",
              "\n",
              "  .colab-df-quickchart:hover {\n",
              "    background-color: var(--hover-bg-color);\n",
              "    box-shadow: 0 1px 2px rgba(60, 64, 67, 0.3), 0 1px 3px 1px rgba(60, 64, 67, 0.15);\n",
              "    fill: var(--button-hover-fill-color);\n",
              "  }\n",
              "\n",
              "  .colab-df-quickchart-complete:disabled,\n",
              "  .colab-df-quickchart-complete:disabled:hover {\n",
              "    background-color: var(--disabled-bg-color);\n",
              "    fill: var(--disabled-fill-color);\n",
              "    box-shadow: none;\n",
              "  }\n",
              "\n",
              "  .colab-df-spinner {\n",
              "    border: 2px solid var(--fill-color);\n",
              "    border-color: transparent;\n",
              "    border-bottom-color: var(--fill-color);\n",
              "    animation:\n",
              "      spin 1s steps(1) infinite;\n",
              "  }\n",
              "\n",
              "  @keyframes spin {\n",
              "    0% {\n",
              "      border-color: transparent;\n",
              "      border-bottom-color: var(--fill-color);\n",
              "      border-left-color: var(--fill-color);\n",
              "    }\n",
              "    20% {\n",
              "      border-color: transparent;\n",
              "      border-left-color: var(--fill-color);\n",
              "      border-top-color: var(--fill-color);\n",
              "    }\n",
              "    30% {\n",
              "      border-color: transparent;\n",
              "      border-left-color: var(--fill-color);\n",
              "      border-top-color: var(--fill-color);\n",
              "      border-right-color: var(--fill-color);\n",
              "    }\n",
              "    40% {\n",
              "      border-color: transparent;\n",
              "      border-right-color: var(--fill-color);\n",
              "      border-top-color: var(--fill-color);\n",
              "    }\n",
              "    60% {\n",
              "      border-color: transparent;\n",
              "      border-right-color: var(--fill-color);\n",
              "    }\n",
              "    80% {\n",
              "      border-color: transparent;\n",
              "      border-right-color: var(--fill-color);\n",
              "      border-bottom-color: var(--fill-color);\n",
              "    }\n",
              "    90% {\n",
              "      border-color: transparent;\n",
              "      border-bottom-color: var(--fill-color);\n",
              "    }\n",
              "  }\n",
              "</style>\n",
              "\n",
              "  <script>\n",
              "    async function quickchart(key) {\n",
              "      const quickchartButtonEl =\n",
              "        document.querySelector('#' + key + ' button');\n",
              "      quickchartButtonEl.disabled = true;  // To prevent multiple clicks.\n",
              "      quickchartButtonEl.classList.add('colab-df-spinner');\n",
              "      try {\n",
              "        const charts = await google.colab.kernel.invokeFunction(\n",
              "            'suggestCharts', [key], {});\n",
              "      } catch (error) {\n",
              "        console.error('Error during call to suggestCharts:', error);\n",
              "      }\n",
              "      quickchartButtonEl.classList.remove('colab-df-spinner');\n",
              "      quickchartButtonEl.classList.add('colab-df-quickchart-complete');\n",
              "    }\n",
              "    (() => {\n",
              "      let quickchartButtonEl =\n",
              "        document.querySelector('#df-57da91c9-5271-4e6a-ac6a-c9a22a5a27b0 button');\n",
              "      quickchartButtonEl.style.display =\n",
              "        google.colab.kernel.accessAllowed ? 'block' : 'none';\n",
              "    })();\n",
              "  </script>\n",
              "</div>\n",
              "\n",
              "  <div id=\"id_ff78f111-5f15-44e2-8cca-09a5d07f7f55\">\n",
              "    <style>\n",
              "      .colab-df-generate {\n",
              "        background-color: #E8F0FE;\n",
              "        border: none;\n",
              "        border-radius: 50%;\n",
              "        cursor: pointer;\n",
              "        display: none;\n",
              "        fill: #1967D2;\n",
              "        height: 32px;\n",
              "        padding: 0 0 0 0;\n",
              "        width: 32px;\n",
              "      }\n",
              "\n",
              "      .colab-df-generate:hover {\n",
              "        background-color: #E2EBFA;\n",
              "        box-shadow: 0px 1px 2px rgba(60, 64, 67, 0.3), 0px 1px 3px 1px rgba(60, 64, 67, 0.15);\n",
              "        fill: #174EA6;\n",
              "      }\n",
              "\n",
              "      [theme=dark] .colab-df-generate {\n",
              "        background-color: #3B4455;\n",
              "        fill: #D2E3FC;\n",
              "      }\n",
              "\n",
              "      [theme=dark] .colab-df-generate:hover {\n",
              "        background-color: #434B5C;\n",
              "        box-shadow: 0px 1px 3px 1px rgba(0, 0, 0, 0.15);\n",
              "        filter: drop-shadow(0px 1px 2px rgba(0, 0, 0, 0.3));\n",
              "        fill: #FFFFFF;\n",
              "      }\n",
              "    </style>\n",
              "    <button class=\"colab-df-generate\" onclick=\"generateWithVariable('dfSamsung')\"\n",
              "            title=\"Generate code using this dataframe.\"\n",
              "            style=\"display:none;\">\n",
              "\n",
              "  <svg xmlns=\"http://www.w3.org/2000/svg\" height=\"24px\"viewBox=\"0 0 24 24\"\n",
              "       width=\"24px\">\n",
              "    <path d=\"M7,19H8.4L18.45,9,17,7.55,7,17.6ZM5,21V16.75L18.45,3.32a2,2,0,0,1,2.83,0l1.4,1.43a1.91,1.91,0,0,1,.58,1.4,1.91,1.91,0,0,1-.58,1.4L9.25,21ZM18.45,9,17,7.55Zm-12,3A5.31,5.31,0,0,0,4.9,8.1,5.31,5.31,0,0,0,1,6.5,5.31,5.31,0,0,0,4.9,4.9,5.31,5.31,0,0,0,6.5,1,5.31,5.31,0,0,0,8.1,4.9,5.31,5.31,0,0,0,12,6.5,5.46,5.46,0,0,0,6.5,12Z\"/>\n",
              "  </svg>\n",
              "    </button>\n",
              "    <script>\n",
              "      (() => {\n",
              "      const buttonEl =\n",
              "        document.querySelector('#id_ff78f111-5f15-44e2-8cca-09a5d07f7f55 button.colab-df-generate');\n",
              "      buttonEl.style.display =\n",
              "        google.colab.kernel.accessAllowed ? 'block' : 'none';\n",
              "\n",
              "      buttonEl.onclick = () => {\n",
              "        google.colab.notebook.generateWithVariable('dfSamsung');\n",
              "      }\n",
              "      })();\n",
              "    </script>\n",
              "  </div>\n",
              "\n",
              "    </div>\n",
              "  </div>\n"
            ],
            "application/vnd.google.colaboratory.intrinsic+json": {
              "type": "dataframe",
              "variable_name": "dfSamsung",
              "summary": "{\n  \"name\": \"dfSamsung\",\n  \"rows\": 4164,\n  \"fields\": [\n    {\n      \"column\": \"Open\",\n      \"properties\": {\n        \"dtype\": \"number\",\n        \"std\": 21930,\n        \"min\": 8150,\n        \"max\": 90300,\n        \"num_unique_values\": 1620,\n        \"samples\": [\n          71400,\n          38000,\n          10300\n        ],\n        \"semantic_type\": \"\",\n        \"description\": \"\"\n      }\n    },\n    {\n      \"column\": \"Close\",\n      \"properties\": {\n        \"dtype\": \"number\",\n        \"std\": 21899,\n        \"min\": 8150,\n        \"max\": 91000,\n        \"num_unique_values\": 1669,\n        \"samples\": [\n          23020,\n          26620,\n          43400\n        ],\n        \"semantic_type\": \"\",\n        \"description\": \"\"\n      }\n    },\n    {\n      \"column\": \"DailyHigh\",\n      \"properties\": {\n        \"dtype\": \"number\",\n        \"std\": 22099,\n        \"min\": 8630,\n        \"max\": 96800,\n        \"num_unique_values\": 1661,\n        \"samples\": [\n          45000,\n          31160,\n          57060\n        ],\n        \"semantic_type\": \"\",\n        \"description\": \"\"\n      }\n    },\n    {\n      \"column\": \"DaiLow\",\n      \"properties\": {\n        \"dtype\": \"number\",\n        \"std\": 21738,\n        \"min\": 8060,\n        \"max\": 89500,\n        \"num_unique_values\": 1672,\n        \"samples\": [\n          45100,\n          51720,\n          51660\n        ],\n        \"semantic_type\": \"\",\n        \"description\": \"\"\n      }\n    },\n    {\n      \"column\": \"Volume\",\n      \"properties\": {\n        \"dtype\": \"number\",\n        \"std\": 9494021,\n        \"min\": 6310,\n        \"max\": 89406371,\n        \"num_unique_values\": 4153,\n        \"samples\": [\n          13455373,\n          895185,\n          8936450\n        ],\n        \"semantic_type\": \"\",\n        \"description\": \"\"\n      }\n    },\n    {\n      \"column\": \"Date\",\n      \"properties\": {\n        \"dtype\": \"object\",\n        \"num_unique_values\": 4164,\n        \"samples\": [\n          \"12/21/16\",\n          \"01/22/10\",\n          \"08/14/14\"\n        ],\n        \"semantic_type\": \"\",\n        \"description\": \"\"\n      }\n    }\n  ]\n}"
            }
          },
          "metadata": {},
          "execution_count": 200
        }
      ]
    },
    {
      "cell_type": "code",
      "source": [
        "#%% Eliminamos las columna de 'Date','Open','DailyHigh','DaiLow' que no usaremos en el algoritmo.\n",
        "deleteCollumns = ['Date','Open','DailyHigh','DaiLow']\n",
        "dates = dfSamsung['Date'] # Guardamos la columna Date.\n",
        "dfSamsung = dfSamsung.drop(deleteCollumns, axis=1, errors='ignore') # Borramos la columna del dataframe."
      ],
      "metadata": {
        "id": "Wb5pPqFQj4Wa"
      },
      "execution_count": 201,
      "outputs": []
    },
    {
      "cell_type": "code",
      "source": [
        "dfSamsung.info()"
      ],
      "metadata": {
        "colab": {
          "base_uri": "https://localhost:8080/"
        },
        "id": "oi3BVk4L3M5v",
        "outputId": "618ce51d-7c14-4236-aecc-bd4a517619ab"
      },
      "execution_count": 202,
      "outputs": [
        {
          "output_type": "stream",
          "name": "stdout",
          "text": [
            "<class 'pandas.core.frame.DataFrame'>\n",
            "RangeIndex: 4164 entries, 0 to 4163\n",
            "Data columns (total 2 columns):\n",
            " #   Column  Non-Null Count  Dtype\n",
            "---  ------  --------------  -----\n",
            " 0   Close   4164 non-null   int64\n",
            " 1   Volume  4164 non-null   int64\n",
            "dtypes: int64(2)\n",
            "memory usage: 65.2 KB\n"
          ]
        }
      ]
    },
    {
      "cell_type": "markdown",
      "source": [
        "<h4 class=\"wp-block-heading\">5. Normalización de los datos.</h4>\n",
        "<p>Como ocurre con cualquier algoritmo de Machine Learning que utilice funciones de distancia, <strong>los datos deben ser normalizados</strong> antes de aplicarles el algoritmo. En este caso utilizaremos la <a rel=\"noreferrer noopener\" aria-label=\"función MinMaxScaler() (abre en una nueva pestaña)\" href=\"https://scikit-learn.org/stable/modules/generated/sklearn.preprocessing.MinMaxScaler.html\" target=\"_blank\">función MinMaxScaler()</a> que normaliza todos los datos entre [0, 1].</p>"
      ],
      "metadata": {
        "id": "AsxYQxfrj0Dn"
      }
    },
    {
      "cell_type": "code",
      "source": [
        "#%% Se normalizan los datos con MinMax()\n",
        "min_max_scaler = preprocessing.MinMaxScaler()\n",
        "dfSamsungScaler = min_max_scaler.fit_transform(dfSamsung)\n",
        "dfSamsungScaler = pd.DataFrame(dfSamsungScaler) # Hay que convertir a DF el resultado.\n",
        "dfSamsungScaler = dfSamsungScaler.rename(columns = {0:'Close',\t1:'Volume'})"
      ],
      "metadata": {
        "id": "qdts8wcNteZI"
      },
      "execution_count": 203,
      "outputs": []
    },
    {
      "cell_type": "markdown",
      "source": [
        "<p>Tras aplicar el escalado, nuestro nuevo <em>dataframe</em> normalizado se llama <em>df_ escalado</em> y tiene todos sus valores normalizados entre [0,1]:</p>"
      ],
      "metadata": {
        "id": "UfuaWOknuzbI"
      }
    },
    {
      "cell_type": "markdown",
      "source": [
        "<h4 class=\"wp-block-heading\">6. Representación gráfica de los datos.</h4>"
      ],
      "metadata": {
        "id": "s6ArtHYmvRRP"
      }
    },
    {
      "cell_type": "markdown",
      "source": [
        "<p>Ahora podemos echar un vistazo a la <strong>representación gráfica</strong> de nuestros datos. En el <strong>eje x</strong> representaremos el precio de cierre (CLOSE) y en el <strong>eje y</strong> el volumen (VOLUME):</p>"
      ],
      "metadata": {
        "id": "fcQcynf1vWIr"
      }
    },
    {
      "cell_type": "code",
      "source": [
        "#%% Representación gráfica de los datos.\n",
        "x = dfSamsungScaler['Close'].values\n",
        "y = dfSamsungScaler['Volume'].values\n",
        "plt.xlabel('Close price')\n",
        "plt.ylabel('Volume')\n",
        "plt.title('Samsung stocks CLOSE vs. VOLUME')\n",
        "plt.plot(x,y,'o',markersize=1)"
      ],
      "metadata": {
        "colab": {
          "base_uri": "https://localhost:8080/",
          "height": 490
        },
        "id": "xfzBnWVM2wWz",
        "outputId": "cf5853b1-fdd9-4215-c406-c29afb7b9140"
      },
      "execution_count": 204,
      "outputs": [
        {
          "output_type": "execute_result",
          "data": {
            "text/plain": [
              "[<matplotlib.lines.Line2D at 0x7b7c649b7010>]"
            ]
          },
          "metadata": {},
          "execution_count": 204
        },
        {
          "output_type": "display_data",
          "data": {
            "text/plain": [
              "<Figure size 640x480 with 1 Axes>"
            ],
            "image/png": "[encoded data removed]"
          },
          "metadata": {}
        }
      ]
    },
    {
      "cell_type": "markdown",
      "source": [
        "<p>A priori, para el caso se este caso de estudio tomaremos como referencia la variable <b>\"CLOSE\"</b> de los cuatro gráficos. </p>\n",
        "<p>La nube de puntos parece indicar que, <strong>a mayor volumen menor es el precio</strong> estabilizándose conforme el precio aumenta.</p>\n",
        "<p>Hay que indicar que hemos representado gráficamente los datos normalizados, pero que, <strong>si hubiésemos representado los datos sin normalizar la gráfica sería exactamente igual</strong>, con la única diferencia que la escala de los ejes sería diferente. </p>"
      ],
      "metadata": {
        "id": "-A2Io2fwxK6n"
      }
    },
    {
      "cell_type": "markdown",
      "source": [
        "<h4 class=\"wp-block-heading\">7. Aplicación de k-means.</h4>\n",
        "<p>El primer paso antes de aplicar k-means es <strong>decidir qué valor de </strong><em><strong>k</strong></em><strong> (número de clústeres) queremos usar</strong>. Una forma de elegir este valor <em>k</em> es por criterio propio: si conocemos bien la distribución de nuestros datos y queremos “forzar” un número determinado de clústeres simplemente lo elegimos.</p>\n",
        "<p>La otra opción es realizar una <a rel=\"noreferrer noopener\" aria-label=\"gráfica elbow o de codo (abre en una nueva pestaña)\" href=\"https://bl.ocks.org/rpgove/0060ff3b656618e9136b\" target=\"_blank\">gráfica </a><em><a rel=\"noreferrer noopener\" aria-label=\"gráfica elbow o de codo (abre en una nueva pestaña)\" href=\"https://bl.ocks.org/rpgove/0060ff3b656618e9136b\" target=\"_blank\">elbow</a></em><a rel=\"noreferrer noopener\" aria-label=\"gráfica elbow o de codo (abre en una nueva pestaña)\" href=\"https://bl.ocks.org/rpgove/0060ff3b656618e9136b\" target=\"_blank\"> o de codo</a> para <strong>determinar el número óptimo de clústeres</strong>. Hacemos una iteración de k-means variando el valor de <em>k</em>, de forma que representamos en el <strong>eje x</strong> dicho valor de<em> k</em> y en el <strong>eje y</strong> la <a href=\"https://hlab.stanford.edu/brian/error_sum_of_squares.html\">suma de los errores cuadráticos (SSE)</a>. De esta forma podemos elegir el valor de <em>k</em> dónde se produce el “codo” de la curva:</p>"
      ],
      "metadata": {
        "id": "_OSZ6QdAxou3"
      }
    },
    {
      "cell_type": "code",
      "source": [
        "#%% Curva elbow para determinar valor óptimo de k.\n",
        "nc = range(1, 30) # El número de iteraciones que queremos hacer.\n",
        "kmeans = [KMeans(n_clusters=i) for i in nc]\n",
        "score = [kmeans[i].fit(dfSamsungScaler).score(dfSamsungScaler) for i in range(len(kmeans))]\n",
        "score\n",
        "plt.xlabel('Número de clústeres (k)')\n",
        "plt.ylabel('Suma de los errores cuadráticos')\n",
        "plt.plot(nc,score)"
      ],
      "metadata": {
        "colab": {
          "base_uri": "https://localhost:8080/",
          "height": 467
        },
        "id": "Ma67SuOQyk-X",
        "outputId": "0eae2016-cd25-49ea-82a9-dc07d1e3619a"
      },
      "execution_count": 205,
      "outputs": [
        {
          "output_type": "execute_result",
          "data": {
            "text/plain": [
              "[<matplotlib.lines.Line2D at 0x7b7c648263e0>]"
            ]
          },
          "metadata": {},
          "execution_count": 205
        },
        {
          "output_type": "display_data",
          "data": {
            "text/plain": [
              "<Figure size 640x480 with 1 Axes>"
            ],
            "image/png": "[encoded data removed]"
          },
          "metadata": {}
        }
      ]
    },
    {
      "cell_type": "markdown",
      "source": [
        "<p>La curva<em> elbow</em> nos muestra que un valor de <em><strong>k</strong></em><strong> = 3</strong> puede ser apropiado, aunque se podría probar con valores entre 2 y 5 y comparar resultados. <strong>No hay una solución, un valor de </strong><em><strong>k</strong></em><strong>,</strong><em> </em><strong>más correcto que otro</strong>, ya que el objetivo de una clusterización con k-means es obtener información útil nuestros datos, por lo que <strong>nuestra interpretación a posteriori de los clústeres creados marcará la calidad de nuestra solución</strong> escogida.</p>\n",
        "<p>Así que ya podemos aplicar el algoritmo de k-means:</p>\n",
        "\n"
      ],
      "metadata": {
        "id": "-K42I15ezGhA"
      }
    },
    {
      "cell_type": "code",
      "source": [
        "#%% Curva elbow para determinar valor óptimo de k.\n",
        "nc = range(1, 30) # El número de iteraciones que queremos hacer.\n",
        "kmeans = [KMeans(n_clusters=i) for i in nc]\n",
        "score = [kmeans[i].fit(dfSamsungScaler).score(dfSamsungScaler) for i in range(len(kmeans))]\n",
        "score\n",
        "plt.axvline(x=2, color='b', linestyle='--')\n",
        "plt.axvline(x=4, color='r', linestyle='--')\n",
        "plt.axvline(x=7, color='y', linestyle='--')\n",
        "plt.xlabel('Número de clústeres (k)')\n",
        "plt.ylabel('Suma de los errores cuadráticos')\n",
        "plt.plot(nc,score)"
      ],
      "metadata": {
        "colab": {
          "base_uri": "https://localhost:8080/",
          "height": 467
        },
        "id": "N83xoXjHzPAL",
        "outputId": "dd6cc483-07de-4631-a3e5-e57af5dc4872"
      },
      "execution_count": 206,
      "outputs": [
        {
          "output_type": "execute_result",
          "data": {
            "text/plain": [
              "[<matplotlib.lines.Line2D at 0x7b7c64110e50>]"
            ]
          },
          "metadata": {},
          "execution_count": 206
        },
        {
          "output_type": "display_data",
          "data": {
            "text/plain": [
              "<Figure size 640x480 with 1 Axes>"
            ],
            "image/png": "[encoded data removed]"
          },
          "metadata": {}
        }
      ]
    },
    {
      "cell_type": "code",
      "source": [
        "#%% Aplicación de k-means con k = 5.\n",
        "kmeans = KMeans(n_clusters=5).fit(dfSamsungScaler)\n",
        "centroids = kmeans.cluster_centers_\n",
        "print(centroids)"
      ],
      "metadata": {
        "colab": {
          "base_uri": "https://localhost:8080/"
        },
        "id": "iM28Zy8dzFBd",
        "outputId": "9e7c5a3a-9420-4806-bfc9-2478a72bde10"
      },
      "execution_count": 207,
      "outputs": [
        {
          "output_type": "stream",
          "name": "stdout",
          "text": [
            "[[0.23401479 0.11000117]\n",
            " [0.80106191 0.15817422]\n",
            " [0.51844415 0.12497362]\n",
            " [0.08022041 0.30091539]\n",
            " [0.093812   0.09495871]]\n"
          ]
        }
      ]
    },
    {
      "cell_type": "markdown",
      "source": [
        "<h4 class=\"wp-block-heading\">8. Etiquetado de datos.</h4>\n",
        "<p>Ya hemos ejecutado k-means y obtenido los centroides. Ahora podemos <strong>asignar cada registro de nuestro <em>dataset</em> a uno de los clústers</strong>:</p>"
      ],
      "metadata": {
        "id": "kbkEsOJd04Cx"
      }
    },
    {
      "cell_type": "code",
      "source": [
        "#%% Etiquetamos nuestro dataframe.\n",
        "labels = kmeans.predict(dfSamsungScaler)\n",
        "dfSamsung['label'] = labels"
      ],
      "metadata": {
        "id": "8-cuHCl00-bi"
      },
      "execution_count": 208,
      "outputs": []
    },
    {
      "cell_type": "markdown",
      "source": [
        "<p>Hemos <strong>añadido la columna “label” a nuestro <em>dataframe</em> original</strong> sin normalizar, por lo que ahora, <strong>cada registro está asignado a un único clúster</strong>. Le añadimos también la columna “Date” que extrajimos al inicio para saber a qué fecha corresponde cada registro:</p>"
      ],
      "metadata": {
        "id": "qzMC6AaA1Keh"
      }
    },
    {
      "cell_type": "code",
      "source": [
        "#%% Añadimos la columna de fecha\n",
        "dfSamsung.insert(0, 'Date', dates)"
      ],
      "metadata": {
        "id": "HQ62Nxt51RWW"
      },
      "execution_count": 209,
      "outputs": []
    },
    {
      "cell_type": "markdown",
      "source": [
        "<p>El <em>dataframe</em> etiquetado queda así:</p>"
      ],
      "metadata": {
        "id": "LGdQRqXs1X5k"
      }
    },
    {
      "cell_type": "code",
      "source": [
        "dfSamsung"
      ],
      "metadata": {
        "colab": {
          "base_uri": "https://localhost:8080/",
          "height": 423
        },
        "id": "COvZAllD1Z2P",
        "outputId": "426e01f3-3695-4202-98be-9e6f69df9929"
      },
      "execution_count": 210,
      "outputs": [
        {
          "output_type": "execute_result",
          "data": {
            "text/plain": [
              "          Date  Close    Volume  label\n",
              "0     11/14/24  49900  45107400      2\n",
              "1     11/13/24  50600  50647543      2\n",
              "2     11/12/24  53000  32714953      2\n",
              "3     11/11/24  55000  29468632      2\n",
              "4     11/08/24  57000  13432473      2\n",
              "...        ...    ...       ...    ...\n",
              "4159  01/08/08  10320  24566250      3\n",
              "4160  01/07/08  10380    394100      4\n",
              "4161  01/04/08  10780  17287800      4\n",
              "4162  01/03/08  10920  19314150      3\n",
              "4163  01/02/08  10880  16952800      4\n",
              "\n",
              "[4164 rows x 4 columns]"
            ],
            "text/html": [
              "\n",
              "  <div id=\"df-fe2e1e19-f5a5-49d4-8ef5-e519ddc72d54\" class=\"colab-df-container\">\n",
              "    <div>\n",
              "<style scoped>\n",
              "    .dataframe tbody tr th:only-of-type {\n",
              "        vertical-align: middle;\n",
              "    }\n",
              "\n",
              "    .dataframe tbody tr th {\n",
              "        vertical-align: top;\n",
              "    }\n",
              "\n",
              "    .dataframe thead th {\n",
              "        text-align: right;\n",
              "    }\n",
              "</style>\n",
              "<table border=\"1\" class=\"dataframe\">\n",
              "  <thead>\n",
              "    <tr style=\"text-align: right;\">\n",
              "      <th></th>\n",
              "      <th>Date</th>\n",
              "      <th>Close</th>\n",
              "      <th>Volume</th>\n",
              "      <th>label</th>\n",
              "    </tr>\n",
              "  </thead>\n",
              "  <tbody>\n",
              "    <tr>\n",
              "      <th>0</th>\n",
              "      <td>11/14/24</td>\n",
              "      <td>49900</td>\n",
              "      <td>45107400</td>\n",
              "      <td>2</td>\n",
              "    </tr>\n",
              "    <tr>\n",
              "      <th>1</th>\n",
              "      <td>11/13/24</td>\n",
              "      <td>50600</td>\n",
              "      <td>50647543</td>\n",
              "      <td>2</td>\n",
              "    </tr>\n",
              "    <tr>\n",
              "      <th>2</th>\n",
              "      <td>11/12/24</td>\n",
              "      <td>53000</td>\n",
              "      <td>32714953</td>\n",
              "      <td>2</td>\n",
              "    </tr>\n",
              "    <tr>\n",
              "      <th>3</th>\n",
              "      <td>11/11/24</td>\n",
              "      <td>55000</td>\n",
              "      <td>29468632</td>\n",
              "      <td>2</td>\n",
              "    </tr>\n",
              "    <tr>\n",
              "      <th>4</th>\n",
              "      <td>11/08/24</td>\n",
              "      <td>57000</td>\n",
              "      <td>13432473</td>\n",
              "      <td>2</td>\n",
              "    </tr>\n",
              "    <tr>\n",
              "      <th>...</th>\n",
              "      <td>...</td>\n",
              "      <td>...</td>\n",
              "      <td>...</td>\n",
              "      <td>...</td>\n",
              "    </tr>\n",
              "    <tr>\n",
              "      <th>4159</th>\n",
              "      <td>01/08/08</td>\n",
              "      <td>10320</td>\n",
              "      <td>24566250</td>\n",
              "      <td>3</td>\n",
              "    </tr>\n",
              "    <tr>\n",
              "      <th>4160</th>\n",
              "      <td>01/07/08</td>\n",
              "      <td>10380</td>\n",
              "      <td>394100</td>\n",
              "      <td>4</td>\n",
              "    </tr>\n",
              "    <tr>\n",
              "      <th>4161</th>\n",
              "      <td>01/04/08</td>\n",
              "      <td>10780</td>\n",
              "      <td>17287800</td>\n",
              "      <td>4</td>\n",
              "    </tr>\n",
              "    <tr>\n",
              "      <th>4162</th>\n",
              "      <td>01/03/08</td>\n",
              "      <td>10920</td>\n",
              "      <td>19314150</td>\n",
              "      <td>3</td>\n",
              "    </tr>\n",
              "    <tr>\n",
              "      <th>4163</th>\n",
              "      <td>01/02/08</td>\n",
              "      <td>10880</td>\n",
              "      <td>16952800</td>\n",
              "      <td>4</td>\n",
              "    </tr>\n",
              "  </tbody>\n",
              "</table>\n",
              "<p>4164 rows × 4 columns</p>\n",
              "</div>\n",
              "    <div class=\"colab-df-buttons\">\n",
              "\n",
              "  <div class=\"colab-df-container\">\n",
              "    <button class=\"colab-df-convert\" onclick=\"convertToInteractive('df-fe2e1e19-f5a5-49d4-8ef5-e519ddc72d54')\"\n",
              "            title=\"Convert this dataframe to an interactive table.\"\n",
              "            style=\"display:none;\">\n",
              "\n",
              "  <svg xmlns=\"http://www.w3.org/2000/svg\" height=\"24px\" viewBox=\"0 -960 960 960\">\n",
              "    <path d=\"M120-120v-720h720v720H120Zm60-500h600v-160H180v160Zm220 220h160v-160H400v160Zm0 220h160v-160H400v160ZM180-400h160v-160H180v160Zm440 0h160v-160H620v160ZM180-180h160v-160H180v160Zm440 0h160v-160H620v160Z\"/>\n",
              "  </svg>\n",
              "    </button>\n",
              "\n",
              "  <style>\n",
              "    .colab-df-container {\n",
              "      display:flex;\n",
              "      gap: 12px;\n",
              "    }\n",
              "\n",
              "    .colab-df-convert {\n",
              "      background-color: #E8F0FE;\n",
              "      border: none;\n",
              "      border-radius: 50%;\n",
              "      cursor: pointer;\n",
              "      display: none;\n",
              "      fill: #1967D2;\n",
              "      height: 32px;\n",
              "      padding: 0 0 0 0;\n",
              "      width: 32px;\n",
              "    }\n",
              "\n",
              "    .colab-df-convert:hover {\n",
              "      background-color: #E2EBFA;\n",
              "      box-shadow: 0px 1px 2px rgba(60, 64, 67, 0.3), 0px 1px 3px 1px rgba(60, 64, 67, 0.15);\n",
              "      fill: #174EA6;\n",
              "    }\n",
              "\n",
              "    .colab-df-buttons div {\n",
              "      margin-bottom: 4px;\n",
              "    }\n",
              "\n",
              "    [theme=dark] .colab-df-convert {\n",
              "      background-color: #3B4455;\n",
              "      fill: #D2E3FC;\n",
              "    }\n",
              "\n",
              "    [theme=dark] .colab-df-convert:hover {\n",
              "      background-color: #434B5C;\n",
              "      box-shadow: 0px 1px 3px 1px rgba(0, 0, 0, 0.15);\n",
              "      filter: drop-shadow(0px 1px 2px rgba(0, 0, 0, 0.3));\n",
              "      fill: #FFFFFF;\n",
              "    }\n",
              "  </style>\n",
              "\n",
              "    <script>\n",
              "      const buttonEl =\n",
              "        document.querySelector('#df-fe2e1e19-f5a5-49d4-8ef5-e519ddc72d54 button.colab-df-convert');\n",
              "      buttonEl.style.display =\n",
              "        google.colab.kernel.accessAllowed ? 'block' : 'none';\n",
              "\n",
              "      async function convertToInteractive(key) {\n",
              "        const element = document.querySelector('#df-fe2e1e19-f5a5-49d4-8ef5-e519ddc72d54');\n",
              "        const dataTable =\n",
              "          await google.colab.kernel.invokeFunction('convertToInteractive',\n",
              "                                                    [key], {});\n",
              "        if (!dataTable) return;\n",
              "\n",
              "        const docLinkHtml = 'Like what you see? Visit the ' +\n",
              "          '<a target=\"_blank\" href=https://colab.research.google.com/notebooks/data_table.ipynb>data table notebook</a>'\n",
              "          + ' to learn more about interactive tables.';\n",
              "        element.innerHTML = '';\n",
              "        dataTable['output_type'] = 'display_data';\n",
              "        await google.colab.output.renderOutput(dataTable, element);\n",
              "        const docLink = document.createElement('div');\n",
              "        docLink.innerHTML = docLinkHtml;\n",
              "        element.appendChild(docLink);\n",
              "      }\n",
              "    </script>\n",
              "  </div>\n",
              "\n",
              "\n",
              "<div id=\"df-a7df4fe5-4b26-4ca4-a08a-f9e61d535c87\">\n",
              "  <button class=\"colab-df-quickchart\" onclick=\"quickchart('df-a7df4fe5-4b26-4ca4-a08a-f9e61d535c87')\"\n",
              "            title=\"Suggest charts\"\n",
              "            style=\"display:none;\">\n",
              "\n",
              "<svg xmlns=\"http://www.w3.org/2000/svg\" height=\"24px\"viewBox=\"0 0 24 24\"\n",
              "     width=\"24px\">\n",
              "    <g>\n",
              "        <path d=\"M19 3H5c-1.1 0-2 .9-2 2v14c0 1.1.9 2 2 2h14c1.1 0 2-.9 2-2V5c0-1.1-.9-2-2-2zM9 17H7v-7h2v7zm4 0h-2V7h2v10zm4 0h-2v-4h2v4z\"/>\n",
              "    </g>\n",
              "</svg>\n",
              "  </button>\n",
              "\n",
              "<style>\n",
              "  .colab-df-quickchart {\n",
              "      --bg-color: #E8F0FE;\n",
              "      --fill-color: #1967D2;\n",
              "      --hover-bg-color: #E2EBFA;\n",
              "      --hover-fill-color: #174EA6;\n",
              "      --disabled-fill-color: #AAA;\n",
              "      --disabled-bg-color: #DDD;\n",
              "  }\n",
              "\n",
              "  [theme=dark] .colab-df-quickchart {\n",
              "      --bg-color: #3B4455;\n",
              "      --fill-color: #D2E3FC;\n",
              "      --hover-bg-color: #434B5C;\n",
              "      --hover-fill-color: #FFFFFF;\n",
              "      --disabled-bg-color: #3B4455;\n",
              "      --disabled-fill-color: #666;\n",
              "  }\n",
              "\n",
              "  .colab-df-quickchart {\n",
              "    background-color: var(--bg-color);\n",
              "    border: none;\n",
              "    border-radius: 50%;\n",
              "    cursor: pointer;\n",
              "    display: none;\n",
              "    fill: var(--fill-color);\n",
              "    height: 32px;\n",
              "    padding: 0;\n",
              "    width: 32px;\n",
              "  }\n",
              "\n",
              "  .colab-df-quickchart:hover {\n",
              "    background-color: var(--hover-bg-color);\n",
              "    box-shadow: 0 1px 2px rgba(60, 64, 67, 0.3), 0 1px 3px 1px rgba(60, 64, 67, 0.15);\n",
              "    fill: var(--button-hover-fill-color);\n",
              "  }\n",
              "\n",
              "  .colab-df-quickchart-complete:disabled,\n",
              "  .colab-df-quickchart-complete:disabled:hover {\n",
              "    background-color: var(--disabled-bg-color);\n",
              "    fill: var(--disabled-fill-color);\n",
              "    box-shadow: none;\n",
              "  }\n",
              "\n",
              "  .colab-df-spinner {\n",
              "    border: 2px solid var(--fill-color);\n",
              "    border-color: transparent;\n",
              "    border-bottom-color: var(--fill-color);\n",
              "    animation:\n",
              "      spin 1s steps(1) infinite;\n",
              "  }\n",
              "\n",
              "  @keyframes spin {\n",
              "    0% {\n",
              "      border-color: transparent;\n",
              "      border-bottom-color: var(--fill-color);\n",
              "      border-left-color: var(--fill-color);\n",
              "    }\n",
              "    20% {\n",
              "      border-color: transparent;\n",
              "      border-left-color: var(--fill-color);\n",
              "      border-top-color: var(--fill-color);\n",
              "    }\n",
              "    30% {\n",
              "      border-color: transparent;\n",
              "      border-left-color: var(--fill-color);\n",
              "      border-top-color: var(--fill-color);\n",
              "      border-right-color: var(--fill-color);\n",
              "    }\n",
              "    40% {\n",
              "      border-color: transparent;\n",
              "      border-right-color: var(--fill-color);\n",
              "      border-top-color: var(--fill-color);\n",
              "    }\n",
              "    60% {\n",
              "      border-color: transparent;\n",
              "      border-right-color: var(--fill-color);\n",
              "    }\n",
              "    80% {\n",
              "      border-color: transparent;\n",
              "      border-right-color: var(--fill-color);\n",
              "      border-bottom-color: var(--fill-color);\n",
              "    }\n",
              "    90% {\n",
              "      border-color: transparent;\n",
              "      border-bottom-color: var(--fill-color);\n",
              "    }\n",
              "  }\n",
              "</style>\n",
              "\n",
              "  <script>\n",
              "    async function quickchart(key) {\n",
              "      const quickchartButtonEl =\n",
              "        document.querySelector('#' + key + ' button');\n",
              "      quickchartButtonEl.disabled = true;  // To prevent multiple clicks.\n",
              "      quickchartButtonEl.classList.add('colab-df-spinner');\n",
              "      try {\n",
              "        const charts = await google.colab.kernel.invokeFunction(\n",
              "            'suggestCharts', [key], {});\n",
              "      } catch (error) {\n",
              "        console.error('Error during call to suggestCharts:', error);\n",
              "      }\n",
              "      quickchartButtonEl.classList.remove('colab-df-spinner');\n",
              "      quickchartButtonEl.classList.add('colab-df-quickchart-complete');\n",
              "    }\n",
              "    (() => {\n",
              "      let quickchartButtonEl =\n",
              "        document.querySelector('#df-a7df4fe5-4b26-4ca4-a08a-f9e61d535c87 button');\n",
              "      quickchartButtonEl.style.display =\n",
              "        google.colab.kernel.accessAllowed ? 'block' : 'none';\n",
              "    })();\n",
              "  </script>\n",
              "</div>\n",
              "\n",
              "  <div id=\"id_2a127194-6071-4c9a-8a26-bfd8b7ad37eb\">\n",
              "    <style>\n",
              "      .colab-df-generate {\n",
              "        background-color: #E8F0FE;\n",
              "        border: none;\n",
              "        border-radius: 50%;\n",
              "        cursor: pointer;\n",
              "        display: none;\n",
              "        fill: #1967D2;\n",
              "        height: 32px;\n",
              "        padding: 0 0 0 0;\n",
              "        width: 32px;\n",
              "      }\n",
              "\n",
              "      .colab-df-generate:hover {\n",
              "        background-color: #E2EBFA;\n",
              "        box-shadow: 0px 1px 2px rgba(60, 64, 67, 0.3), 0px 1px 3px 1px rgba(60, 64, 67, 0.15);\n",
              "        fill: #174EA6;\n",
              "      }\n",
              "\n",
              "      [theme=dark] .colab-df-generate {\n",
              "        background-color: #3B4455;\n",
              "        fill: #D2E3FC;\n",
              "      }\n",
              "\n",
              "      [theme=dark] .colab-df-generate:hover {\n",
              "        background-color: #434B5C;\n",
              "        box-shadow: 0px 1px 3px 1px rgba(0, 0, 0, 0.15);\n",
              "        filter: drop-shadow(0px 1px 2px rgba(0, 0, 0, 0.3));\n",
              "        fill: #FFFFFF;\n",
              "      }\n",
              "    </style>\n",
              "    <button class=\"colab-df-generate\" onclick=\"generateWithVariable('dfSamsung')\"\n",
              "            title=\"Generate code using this dataframe.\"\n",
              "            style=\"display:none;\">\n",
              "\n",
              "  <svg xmlns=\"http://www.w3.org/2000/svg\" height=\"24px\"viewBox=\"0 0 24 24\"\n",
              "       width=\"24px\">\n",
              "    <path d=\"M7,19H8.4L18.45,9,17,7.55,7,17.6ZM5,21V16.75L18.45,3.32a2,2,0,0,1,2.83,0l1.4,1.43a1.91,1.91,0,0,1,.58,1.4,1.91,1.91,0,0,1-.58,1.4L9.25,21ZM18.45,9,17,7.55Zm-12,3A5.31,5.31,0,0,0,4.9,8.1,5.31,5.31,0,0,0,1,6.5,5.31,5.31,0,0,0,4.9,4.9,5.31,5.31,0,0,0,6.5,1,5.31,5.31,0,0,0,8.1,4.9,5.31,5.31,0,0,0,12,6.5,5.46,5.46,0,0,0,6.5,12Z\"/>\n",
              "  </svg>\n",
              "    </button>\n",
              "    <script>\n",
              "      (() => {\n",
              "      const buttonEl =\n",
              "        document.querySelector('#id_2a127194-6071-4c9a-8a26-bfd8b7ad37eb button.colab-df-generate');\n",
              "      buttonEl.style.display =\n",
              "        google.colab.kernel.accessAllowed ? 'block' : 'none';\n",
              "\n",
              "      buttonEl.onclick = () => {\n",
              "        google.colab.notebook.generateWithVariable('dfSamsung');\n",
              "      }\n",
              "      })();\n",
              "    </script>\n",
              "  </div>\n",
              "\n",
              "    </div>\n",
              "  </div>\n"
            ],
            "application/vnd.google.colaboratory.intrinsic+json": {
              "type": "dataframe",
              "variable_name": "dfSamsung",
              "summary": "{\n  \"name\": \"dfSamsung\",\n  \"rows\": 4164,\n  \"fields\": [\n    {\n      \"column\": \"Date\",\n      \"properties\": {\n        \"dtype\": \"object\",\n        \"num_unique_values\": 4164,\n        \"samples\": [\n          \"12/21/16\",\n          \"01/22/10\",\n          \"08/14/14\"\n        ],\n        \"semantic_type\": \"\",\n        \"description\": \"\"\n      }\n    },\n    {\n      \"column\": \"Close\",\n      \"properties\": {\n        \"dtype\": \"number\",\n        \"std\": 21899,\n        \"min\": 8150,\n        \"max\": 91000,\n        \"num_unique_values\": 1669,\n        \"samples\": [\n          23020,\n          26620,\n          43400\n        ],\n        \"semantic_type\": \"\",\n        \"description\": \"\"\n      }\n    },\n    {\n      \"column\": \"Volume\",\n      \"properties\": {\n        \"dtype\": \"number\",\n        \"std\": 9494021,\n        \"min\": 6310,\n        \"max\": 89406371,\n        \"num_unique_values\": 4153,\n        \"samples\": [\n          13455373,\n          895185,\n          8936450\n        ],\n        \"semantic_type\": \"\",\n        \"description\": \"\"\n      }\n    },\n    {\n      \"column\": \"label\",\n      \"properties\": {\n        \"dtype\": \"int32\",\n        \"num_unique_values\": 5,\n        \"samples\": [\n          1,\n          4,\n          0\n        ],\n        \"semantic_type\": \"\",\n        \"description\": \"\"\n      }\n    }\n  ]\n}"
            }
          },
          "metadata": {},
          "execution_count": 210
        }
      ]
    },
    {
      "cell_type": "markdown",
      "source": [
        "<h4 class=\"wp-block-heading\">9. Representación gráfica de los clústeres k-means.</h4>\n",
        "<p>Una vez con los datos etiquetados, podemos <strong>visualizar gráficamente en dos dimensiones el clustering realizado por k-means</strong>, ya que hemos usado sólo dos variables.</p>"
      ],
      "metadata": {
        "id": "dp3vnUGW1iH5"
      }
    },
    {
      "cell_type": "code",
      "source": [
        "#%% Plot k-means clustering.\n",
        "colores=['red','green','blue','yellow','fuchsia']\n",
        "asignar=[]\n",
        "for row in labels:\n",
        "     asignar.append(colores[row])\n",
        "plt.scatter(x, y, c=asignar, s=1)\n",
        "plt.scatter(centroids[:, 0], centroids[:, 1], marker='*', c='black', s=20) # Marco centroides.\n",
        "plt.xlabel('Close price')\n",
        "plt.ylabel('Volume')\n",
        "plt.title('Samsung stocks k-means clustering')\n",
        "plt.show()"
      ],
      "metadata": {
        "colab": {
          "base_uri": "https://localhost:8080/",
          "height": 472
        },
        "id": "kEPkN0PI1m_R",
        "outputId": "fdf710dc-1f15-4b6f-fe7a-6ffb05fb817d"
      },
      "execution_count": 211,
      "outputs": [
        {
          "output_type": "display_data",
          "data": {
            "text/plain": [
              "<Figure size 640x480 with 1 Axes>"
            ],
            "image/png": "[encoded data removed]"
          },
          "metadata": {}
        }
      ]
    },
    {
      "cell_type": "markdown",
      "source": [
        "<p>Hemos creado una lista de 5 colores, una para cada clúster y se ha marcado cada centroide con un punto estrellado de color negro:</p>"
      ],
      "metadata": {
        "id": "_3Sodojp1z-n"
      }
    },
    {
      "cell_type": "markdown",
      "source": [
        "<p>La interpretación de los grupos creados por k-means es una<strong> tarea que debe realizar el especialista de los datos</strong>. En este caso, y de forma simplificada, podríamos describir cada grupo de la siguiente forma:</p>\n",
        "<ul class=\"wp-block-list\"><li><strong>Clúster azul</strong>: grupo de bajo volumen y precio de cierre tambien bajo. Los dos puntos de la parte superior podrían considerarse outliers.</li><li><strong>Clúster rojo</strong>: grupo de volumen alto y precio de cierre bajo.</li><li><strong>Clúster fucsia</strong>:  grupo de volumen bajo y precio de cierre bajo.</li><li><strong>Clúster verde</strong>: grupo de volumen bajo y precio de cierre medio.</li><li><strong>Clúster amarillo</strong>: grupo de volumen medio y precio de cierre alto.</li></ul>\n",
        "<h4 class=\"wp-block-heading\">10. Clasificación de nuevas muestras.</h4>\n",
        "<p>Por último, queda por determinar la forma de clasificar nuevas muestras. Es decir, que <strong>dados nuevos datos de entrada, determinar a qué clúster pertenecen</strong>.</p>\n",
        "<p>Supongamos que nuestros <strong>nuevos datos a categorizar</strong> son los siguientes:</p>\n",
        "<ul class=\"wp-block-list\"><li><strong>CLOSE</strong>: 46.850</li><li><strong>VOLUME</strong>: 7.196.370</li></ul>\n",
        "<p>Introducimos estos nuevos datos como un <em>dataframe</em> de una única fila:</p>"
      ],
      "metadata": {
        "id": "J18K0MzQ5A2F"
      }
    },
    {
      "cell_type": "code",
      "source": [
        "close = 46850\n",
        "volume = 7196370\n",
        "\n",
        "nuevoDato = pd.DataFrame([[close,volume]]) # Nueva muestra\n",
        "nuevoDato = nuevoDato.rename(columns = {0: 'Close', 1: 'Volume'})"
      ],
      "metadata": {
        "id": "B_eabBhV6Qw9"
      },
      "execution_count": 212,
      "outputs": []
    },
    {
      "cell_type": "markdown",
      "source": [
        "<p><strong>No podemos introducir como tal estos valores en el algoritmo k-means ya que no están normalizados</strong>. Así que en primer lugar hay que normalizar, y para ello debemos agregarlos al conjunto de datos original. </p><p>Añadimos por tanto esta nueva fila de datos a nuestro <em>dataframe</em> de inicio y lo guardamos con el nombre <em>df_n</em> para no sobrescribir el original:</p>\n"
      ],
      "metadata": {
        "id": "KYat3qdd6epb"
      }
    },
    {
      "cell_type": "code",
      "source": [
        "\n",
        "dfDummySamsung = pd.concat([dfSamsung, nuevoDato], ignore_index=True)"
      ],
      "metadata": {
        "id": "-dxuRNmR6iYQ"
      },
      "execution_count": 213,
      "outputs": []
    },
    {
      "cell_type": "code",
      "source": [
        "dfDummySamsung.tail(1)"
      ],
      "metadata": {
        "colab": {
          "base_uri": "https://localhost:8080/",
          "height": 81
        },
        "id": "rJoLzb9x8srq",
        "outputId": "7c6674aa-8323-41a9-ee40-53d75dabeecb"
      },
      "execution_count": 214,
      "outputs": [
        {
          "output_type": "execute_result",
          "data": {
            "text/plain": [
              "     Date  Close   Volume  label\n",
              "4164  NaN  46850  7196370    NaN"
            ],
            "text/html": [
              "\n",
              "  <div id=\"df-bcdf94ba-2983-4a1c-a86f-9eef96d381bd\" class=\"colab-df-container\">\n",
              "    <div>\n",
              "<style scoped>\n",
              "    .dataframe tbody tr th:only-of-type {\n",
              "        vertical-align: middle;\n",
              "    }\n",
              "\n",
              "    .dataframe tbody tr th {\n",
              "        vertical-align: top;\n",
              "    }\n",
              "\n",
              "    .dataframe thead th {\n",
              "        text-align: right;\n",
              "    }\n",
              "</style>\n",
              "<table border=\"1\" class=\"dataframe\">\n",
              "  <thead>\n",
              "    <tr style=\"text-align: right;\">\n",
              "      <th></th>\n",
              "      <th>Date</th>\n",
              "      <th>Close</th>\n",
              "      <th>Volume</th>\n",
              "      <th>label</th>\n",
              "    </tr>\n",
              "  </thead>\n",
              "  <tbody>\n",
              "    <tr>\n",
              "      <th>4164</th>\n",
              "      <td>NaN</td>\n",
              "      <td>46850</td>\n",
              "      <td>7196370</td>\n",
              "      <td>NaN</td>\n",
              "    </tr>\n",
              "  </tbody>\n",
              "</table>\n",
              "</div>\n",
              "    <div class=\"colab-df-buttons\">\n",
              "\n",
              "  <div class=\"colab-df-container\">\n",
              "    <button class=\"colab-df-convert\" onclick=\"convertToInteractive('df-bcdf94ba-2983-4a1c-a86f-9eef96d381bd')\"\n",
              "            title=\"Convert this dataframe to an interactive table.\"\n",
              "            style=\"display:none;\">\n",
              "\n",
              "  <svg xmlns=\"http://www.w3.org/2000/svg\" height=\"24px\" viewBox=\"0 -960 960 960\">\n",
              "    <path d=\"M120-120v-720h720v720H120Zm60-500h600v-160H180v160Zm220 220h160v-160H400v160Zm0 220h160v-160H400v160ZM180-400h160v-160H180v160Zm440 0h160v-160H620v160ZM180-180h160v-160H180v160Zm440 0h160v-160H620v160Z\"/>\n",
              "  </svg>\n",
              "    </button>\n",
              "\n",
              "  <style>\n",
              "    .colab-df-container {\n",
              "      display:flex;\n",
              "      gap: 12px;\n",
              "    }\n",
              "\n",
              "    .colab-df-convert {\n",
              "      background-color: #E8F0FE;\n",
              "      border: none;\n",
              "      border-radius: 50%;\n",
              "      cursor: pointer;\n",
              "      display: none;\n",
              "      fill: #1967D2;\n",
              "      height: 32px;\n",
              "      padding: 0 0 0 0;\n",
              "      width: 32px;\n",
              "    }\n",
              "\n",
              "    .colab-df-convert:hover {\n",
              "      background-color: #E2EBFA;\n",
              "      box-shadow: 0px 1px 2px rgba(60, 64, 67, 0.3), 0px 1px 3px 1px rgba(60, 64, 67, 0.15);\n",
              "      fill: #174EA6;\n",
              "    }\n",
              "\n",
              "    .colab-df-buttons div {\n",
              "      margin-bottom: 4px;\n",
              "    }\n",
              "\n",
              "    [theme=dark] .colab-df-convert {\n",
              "      background-color: #3B4455;\n",
              "      fill: #D2E3FC;\n",
              "    }\n",
              "\n",
              "    [theme=dark] .colab-df-convert:hover {\n",
              "      background-color: #434B5C;\n",
              "      box-shadow: 0px 1px 3px 1px rgba(0, 0, 0, 0.15);\n",
              "      filter: drop-shadow(0px 1px 2px rgba(0, 0, 0, 0.3));\n",
              "      fill: #FFFFFF;\n",
              "    }\n",
              "  </style>\n",
              "\n",
              "    <script>\n",
              "      const buttonEl =\n",
              "        document.querySelector('#df-bcdf94ba-2983-4a1c-a86f-9eef96d381bd button.colab-df-convert');\n",
              "      buttonEl.style.display =\n",
              "        google.colab.kernel.accessAllowed ? 'block' : 'none';\n",
              "\n",
              "      async function convertToInteractive(key) {\n",
              "        const element = document.querySelector('#df-bcdf94ba-2983-4a1c-a86f-9eef96d381bd');\n",
              "        const dataTable =\n",
              "          await google.colab.kernel.invokeFunction('convertToInteractive',\n",
              "                                                    [key], {});\n",
              "        if (!dataTable) return;\n",
              "\n",
              "        const docLinkHtml = 'Like what you see? Visit the ' +\n",
              "          '<a target=\"_blank\" href=https://colab.research.google.com/notebooks/data_table.ipynb>data table notebook</a>'\n",
              "          + ' to learn more about interactive tables.';\n",
              "        element.innerHTML = '';\n",
              "        dataTable['output_type'] = 'display_data';\n",
              "        await google.colab.output.renderOutput(dataTable, element);\n",
              "        const docLink = document.createElement('div');\n",
              "        docLink.innerHTML = docLinkHtml;\n",
              "        element.appendChild(docLink);\n",
              "      }\n",
              "    </script>\n",
              "  </div>\n",
              "\n",
              "\n",
              "    </div>\n",
              "  </div>\n"
            ],
            "application/vnd.google.colaboratory.intrinsic+json": {
              "type": "dataframe",
              "repr_error": "0"
            }
          },
          "metadata": {},
          "execution_count": 214
        }
      ]
    },
    {
      "cell_type": "markdown",
      "source": [
        "Nuestro nuevo dataframe df_n tiene aun las columnas “date” y “label” del datafame original, así que las eliminamos y resetamos el índice:\n",
        "\n"
      ],
      "metadata": {
        "id": "yt3G0Qdo7BiO"
      }
    },
    {
      "cell_type": "code",
      "source": [
        "#Eliminar las columnas Data y label de df_n\n",
        "\n",
        "dfDummySamsung = dfDummySamsung.drop(['Date', 'label'], axis=1)\n",
        "dfDummySamsung = dfDummySamsung.reset_index(drop=True)"
      ],
      "metadata": {
        "id": "zc10cSOO878a"
      },
      "execution_count": 215,
      "outputs": []
    },
    {
      "cell_type": "markdown",
      "source": [
        "<p>Ahora procedemos a normalizar el <em>Dataframe</em> completo como hizo anteriormente:</p>"
      ],
      "metadata": {
        "id": "xOOvANtt9T_R"
      }
    },
    {
      "cell_type": "code",
      "source": [
        "min_max_scaler = preprocessing.MinMaxScaler()\n",
        "dfDummySamsungScaler = min_max_scaler.fit_transform(dfDummySamsung)\n",
        "dfDummySamsungScaler = pd.DataFrame(dfDummySamsungScaler) # Hay que convertir a DF el resultado.\n",
        "dfDummySamsungScaler = dfDummySamsungScaler.rename(columns = {0: 'Close', 1: 'Volume'})"
      ],
      "metadata": {
        "id": "LpxFN9ql9X4a"
      },
      "execution_count": 216,
      "outputs": []
    },
    {
      "cell_type": "markdown",
      "source": [
        "<p>Ya tenemos nuestros nuevos datos (última final del dataframe) normalizados</p>\n",
        "<p>Por tanto, los valores normalizados son:</p>\n",
        "\n",
        "\n",
        "\n"
      ],
      "metadata": {
        "id": "vw05XKM39_ZE"
      }
    },
    {
      "cell_type": "code",
      "source": [
        "dfDummySamsungScaler.tail(1)"
      ],
      "metadata": {
        "colab": {
          "base_uri": "https://localhost:8080/",
          "height": 81
        },
        "id": "f1rgbvhq-GkA",
        "outputId": "40970d0d-6f60-4c44-fd3a-2ec93ca0e6b5"
      },
      "execution_count": 217,
      "outputs": [
        {
          "output_type": "execute_result",
          "data": {
            "text/plain": [
              "         Close    Volume\n",
              "4164  0.467109  0.080426"
            ],
            "text/html": [
              "\n",
              "  <div id=\"df-84c826ff-e7d4-44d9-bec6-86d8a031e9f6\" class=\"colab-df-container\">\n",
              "    <div>\n",
              "<style scoped>\n",
              "    .dataframe tbody tr th:only-of-type {\n",
              "        vertical-align: middle;\n",
              "    }\n",
              "\n",
              "    .dataframe tbody tr th {\n",
              "        vertical-align: top;\n",
              "    }\n",
              "\n",
              "    .dataframe thead th {\n",
              "        text-align: right;\n",
              "    }\n",
              "</style>\n",
              "<table border=\"1\" class=\"dataframe\">\n",
              "  <thead>\n",
              "    <tr style=\"text-align: right;\">\n",
              "      <th></th>\n",
              "      <th>Close</th>\n",
              "      <th>Volume</th>\n",
              "    </tr>\n",
              "  </thead>\n",
              "  <tbody>\n",
              "    <tr>\n",
              "      <th>4164</th>\n",
              "      <td>0.467109</td>\n",
              "      <td>0.080426</td>\n",
              "    </tr>\n",
              "  </tbody>\n",
              "</table>\n",
              "</div>\n",
              "    <div class=\"colab-df-buttons\">\n",
              "\n",
              "  <div class=\"colab-df-container\">\n",
              "    <button class=\"colab-df-convert\" onclick=\"convertToInteractive('df-84c826ff-e7d4-44d9-bec6-86d8a031e9f6')\"\n",
              "            title=\"Convert this dataframe to an interactive table.\"\n",
              "            style=\"display:none;\">\n",
              "\n",
              "  <svg xmlns=\"http://www.w3.org/2000/svg\" height=\"24px\" viewBox=\"0 -960 960 960\">\n",
              "    <path d=\"M120-120v-720h720v720H120Zm60-500h600v-160H180v160Zm220 220h160v-160H400v160Zm0 220h160v-160H400v160ZM180-400h160v-160H180v160Zm440 0h160v-160H620v160ZM180-180h160v-160H180v160Zm440 0h160v-160H620v160Z\"/>\n",
              "  </svg>\n",
              "    </button>\n",
              "\n",
              "  <style>\n",
              "    .colab-df-container {\n",
              "      display:flex;\n",
              "      gap: 12px;\n",
              "    }\n",
              "\n",
              "    .colab-df-convert {\n",
              "      background-color: #E8F0FE;\n",
              "      border: none;\n",
              "      border-radius: 50%;\n",
              "      cursor: pointer;\n",
              "      display: none;\n",
              "      fill: #1967D2;\n",
              "      height: 32px;\n",
              "      padding: 0 0 0 0;\n",
              "      width: 32px;\n",
              "    }\n",
              "\n",
              "    .colab-df-convert:hover {\n",
              "      background-color: #E2EBFA;\n",
              "      box-shadow: 0px 1px 2px rgba(60, 64, 67, 0.3), 0px 1px 3px 1px rgba(60, 64, 67, 0.15);\n",
              "      fill: #174EA6;\n",
              "    }\n",
              "\n",
              "    .colab-df-buttons div {\n",
              "      margin-bottom: 4px;\n",
              "    }\n",
              "\n",
              "    [theme=dark] .colab-df-convert {\n",
              "      background-color: #3B4455;\n",
              "      fill: #D2E3FC;\n",
              "    }\n",
              "\n",
              "    [theme=dark] .colab-df-convert:hover {\n",
              "      background-color: #434B5C;\n",
              "      box-shadow: 0px 1px 3px 1px rgba(0, 0, 0, 0.15);\n",
              "      filter: drop-shadow(0px 1px 2px rgba(0, 0, 0, 0.3));\n",
              "      fill: #FFFFFF;\n",
              "    }\n",
              "  </style>\n",
              "\n",
              "    <script>\n",
              "      const buttonEl =\n",
              "        document.querySelector('#df-84c826ff-e7d4-44d9-bec6-86d8a031e9f6 button.colab-df-convert');\n",
              "      buttonEl.style.display =\n",
              "        google.colab.kernel.accessAllowed ? 'block' : 'none';\n",
              "\n",
              "      async function convertToInteractive(key) {\n",
              "        const element = document.querySelector('#df-84c826ff-e7d4-44d9-bec6-86d8a031e9f6');\n",
              "        const dataTable =\n",
              "          await google.colab.kernel.invokeFunction('convertToInteractive',\n",
              "                                                    [key], {});\n",
              "        if (!dataTable) return;\n",
              "\n",
              "        const docLinkHtml = 'Like what you see? Visit the ' +\n",
              "          '<a target=\"_blank\" href=https://colab.research.google.com/notebooks/data_table.ipynb>data table notebook</a>'\n",
              "          + ' to learn more about interactive tables.';\n",
              "        element.innerHTML = '';\n",
              "        dataTable['output_type'] = 'display_data';\n",
              "        await google.colab.output.renderOutput(dataTable, element);\n",
              "        const docLink = document.createElement('div');\n",
              "        docLink.innerHTML = docLinkHtml;\n",
              "        element.appendChild(docLink);\n",
              "      }\n",
              "    </script>\n",
              "  </div>\n",
              "\n",
              "\n",
              "    </div>\n",
              "  </div>\n"
            ],
            "application/vnd.google.colaboratory.intrinsic+json": {
              "type": "dataframe",
              "summary": "{\n  \"name\": \"dfDummySamsungScaler\",\n  \"rows\": 1,\n  \"fields\": [\n    {\n      \"column\": \"Close\",\n      \"properties\": {\n        \"dtype\": \"number\",\n        \"std\": null,\n        \"min\": 0.4671092335546168,\n        \"max\": 0.4671092335546168,\n        \"num_unique_values\": 1,\n        \"samples\": [\n          0.4671092335546168\n        ],\n        \"semantic_type\": \"\",\n        \"description\": \"\"\n      }\n    },\n    {\n      \"column\": \"Volume\",\n      \"properties\": {\n        \"dtype\": \"number\",\n        \"std\": null,\n        \"min\": 0.080425672192774,\n        \"max\": 0.080425672192774,\n        \"num_unique_values\": 1,\n        \"samples\": [\n          0.080425672192774\n        ],\n        \"semantic_type\": \"\",\n        \"description\": \"\"\n      }\n    }\n  ]\n}"
            }
          },
          "metadata": {},
          "execution_count": 217
        }
      ]
    },
    {
      "cell_type": "markdown",
      "source": [
        "<p>Podemos introducir estos nuevos datos ya normalizados a mano o extraerlos en forma de vector <a href=\"https://www.numpy.org/\" target=\"_blank\" rel=\"noreferrer noopener\" aria-label=\"numpy (abre en una nueva pestaña)\">numpy</a>:</p>"
      ],
      "metadata": {
        "id": "ah89QYt0-icc"
      }
    },
    {
      "cell_type": "code",
      "source": [
        "close_n = dfDummySamsungScaler['Close'][2784]\n",
        "volume_n = dfDummySamsungScaler['Volume'][2784]\n",
        "import numpy as np\n",
        "X_new = np.array([[close_n, volume_n]]) # Nueva muestra"
      ],
      "metadata": {
        "id": "96hbZUjm-pUN"
      },
      "execution_count": 218,
      "outputs": []
    },
    {
      "cell_type": "code",
      "source": [
        "X_new"
      ],
      "metadata": {
        "colab": {
          "base_uri": "https://localhost:8080/"
        },
        "id": "5iQWc6z3-wjH",
        "outputId": "ced5e9c1-7713-432a-e714-44c85d34e7b5"
      },
      "execution_count": 219,
      "outputs": [
        {
          "output_type": "execute_result",
          "data": {
            "text/plain": [
              "array([[0.21834641, 0.22630119]])"
            ]
          },
          "metadata": {},
          "execution_count": 219
        }
      ]
    },
    {
      "cell_type": "markdown",
      "source": [
        "<p>Por último, introducimos el <em>array</em> X_new en k-means:</p>"
      ],
      "metadata": {
        "id": "_nQfyY2T_FeE"
      }
    },
    {
      "cell_type": "code",
      "source": [
        "new_labels = kmeans.predict(X_new)\n",
        "print(new_labels)"
      ],
      "metadata": {
        "colab": {
          "base_uri": "https://localhost:8080/"
        },
        "id": "dChUX1L0_FEb",
        "outputId": "ac3199c4-78ff-4527-f7ac-42970c07556c"
      },
      "execution_count": 220,
      "outputs": [
        {
          "output_type": "stream",
          "name": "stdout",
          "text": [
            "[0]\n"
          ]
        },
        {
          "output_type": "stream",
          "name": "stderr",
          "text": [
            "/usr/local/lib/python3.10/dist-packages/sklearn/base.py:493: UserWarning: X does not have valid feature names, but KMeans was fitted with feature names\n",
            "  warnings.warn(\n"
          ]
        }
      ]
    },
    {
      "cell_type": "markdown",
      "source": [
        "<h4 class=\"wp-block-heading\">11. Representación gráfica de la nueva muestra.</h4>\n",
        "<p>El resultado es el <strong>clúster 2</strong>, que en nuestro caso es el <strong>FUCSIA</strong>, es decir, grupo de bajo volumen y precio de cierre bajo.</p>\n",
        "<p>Podemos<strong> representar gráficamente el nuevo punto</strong> y verificar que, efectivamente, corresponde con el clúster FUCSIA:</p>"
      ],
      "metadata": {
        "id": "vkEcGsoF_Qv-"
      }
    },
    {
      "cell_type": "code",
      "source": [
        "#%% Plot del nuevo dato clusterizado.\n",
        "\n",
        "colores=['red','green','blue','yellow','fuchsia']\n",
        "\n",
        "asignar=[]\n",
        "for row in labels:\n",
        "     asignar.append(colores[row])\n",
        "\n",
        "fig, ax = plt.subplots()\n",
        "x_n = close_n\n",
        "y_n = volume_n\n",
        "\n",
        "plt.plot(x_n,y_n, '*', color = 'lime', markersize = 20)\n",
        "plt.scatter(x, y, c=asignar, s=1)\n",
        "plt.xlabel('Close price')\n",
        "plt.ylabel('Volume')\n",
        "plt.title('Samsung stocks k-means clustering')\n",
        "plt.show()"
      ],
      "metadata": {
        "colab": {
          "base_uri": "https://localhost:8080/",
          "height": 472
        },
        "id": "9LCezw9E_li0",
        "outputId": "0a4042ea-f422-4d84-84cc-88e341efbeeb"
      },
      "execution_count": 221,
      "outputs": [
        {
          "output_type": "display_data",
          "data": {
            "text/plain": [
              "<Figure size 640x480 with 1 Axes>"
            ],
            "image/png": "[encoded data removed]"
          },
          "metadata": {}
        }
      ]
    },
    {
      "cell_type": "markdown",
      "source": [
        "<p>El resultado es el <strong>clúster 3</strong>, que en nuestro caso es el <strong>FUCSIA</strong>, es decir, grupo de bajo volumen y precio de cierre bajo.</p>"
      ],
      "metadata": {
        "id": "5diUitT-_1XE"
      }
    }
  ]
}